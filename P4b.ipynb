{
 "cells": [
  {
   "cell_type": "code",
   "execution_count": 5,
   "metadata": {
    "collapsed": true
   },
   "outputs": [],
   "source": [
    "import random\n",
    "from pysuffixarray.core import SuffixArray\n",
    "from bayes_opt import BayesianOptimization\n",
    "\n",
    "alphabet = [' ', 'a', 'ą', 'b', 'c', 'ć', 'd', 'e', 'ę', 'f', 'g', 'h', 'i', 'j', 'k', 'l', 'ł', 'm', 'n',\n",
    "            'ń', 'o', 'ó', 'p', 'q', 'r', 's', 'ś', 't', 'u', 'v', 'w', 'x', 'y', 'z', 'ż', 'ź']"
   ]
  },
  {
   "cell_type": "code",
   "execution_count": 6,
   "outputs": [],
   "source": [
    "class RMQ:\n",
    "    def __init__(self, n):\n",
    "        self.sz = 1\n",
    "        self.inf = (1 << 31) - 1\n",
    "        while self.sz <= n: self.sz = self.sz << 1\n",
    "        self.dat = [self.inf] * (2 * self.sz - 1)\n",
    "\n",
    "    def update(self, idx, x):\n",
    "        idx += self.sz - 1\n",
    "        self.dat[idx] = x\n",
    "        while idx > 0:\n",
    "            idx = (idx - 1) >> 1\n",
    "            self.dat[idx] = min(self.dat[idx * 2 + 1], self.dat[idx * 2 + 2])\n",
    "\n",
    "    def query(self, a, b):\n",
    "        return self.query_help(a, b, 0, 0, self.sz)\n",
    "\n",
    "    def query_help(self, a, b, k, l, r):\n",
    "        if r <= a or b <= l:\n",
    "            return 9999999\n",
    "        elif a <= l and r <= b:\n",
    "            return self.dat[k]\n",
    "        else:\n",
    "            return min(self.query_help(a, b, 2 * k + 1, l, (l + r)>>1),\n",
    "                        self.query_help(a, b, 2 * k + 2, (l + r) >> 1, r))"
   ],
   "metadata": {
    "collapsed": false,
    "pycharm": {
     "name": "#%%\n"
    }
   }
  },
  {
   "cell_type": "code",
   "execution_count": 7,
   "outputs": [],
   "source": [
    "def load_text(file='.\\P4b-data\\sentences_for_task1.txt'):\n",
    "    complete_text = ''\n",
    "    with open(file, 'r', encoding='utf8') as base_vectors_lines:\n",
    "        for line in base_vectors_lines:\n",
    "            line = line.strip().lower()\n",
    "            complete_text += ' ' + line\n",
    "\n",
    "    complete_text = complete_text + ' '\n",
    "    return complete_text\n",
    "\n",
    "text = load_text()\n",
    "sabase = SuffixArray(text)\n",
    "SA = sabase.suffix_array()\n",
    "LCP = sabase.longest_common_prefix()"
   ],
   "metadata": {
    "collapsed": false,
    "pycharm": {
     "name": "#%%\n"
    }
   }
  },
  {
   "cell_type": "code",
   "execution_count": 128,
   "outputs": [],
   "source": [
    "precomp_length=18\n",
    "precomp_adj=6\n",
    "\n",
    "def precompute_counts2(ln):\n",
    "    word_counts = {}\n",
    "    template = {}\n",
    "    for a in alphabet:\n",
    "        template[a] = 0\n",
    "    adj_table = {}\n",
    "    for i in range(len(SA)):\n",
    "        for j in range(1, ln):\n",
    "            wrd = text[SA[i]:SA[i]+j]\n",
    "            if wrd not in word_counts:\n",
    "                word_counts[wrd] = [0, i]\n",
    "                if j <= precomp_adj:\n",
    "                    adj_table[wrd] = [[],[]]\n",
    "                    for q in range(3):\n",
    "                        adj_table[wrd][0].append(template.copy())\n",
    "                        adj_table[wrd][1].append(template.copy())\n",
    "            word_counts[wrd][0] += 1\n",
    "            if j <= precomp_adj:\n",
    "                pre_b = False\n",
    "                suf_b = False\n",
    "                for q in range(3):\n",
    "                    if SA[i]-q-1 > 0:\n",
    "                        if not pre_b:\n",
    "                            adj_table[wrd][0][q][text[SA[i]-q-1]] += 1\n",
    "                            if text[SA[i]-q-1] == ' ':\n",
    "                                pre_b = True\n",
    "                        else:\n",
    "                            adj_table[wrd][0][q][' '] += 1\n",
    "                    if SA[i]+j+q < len(text):\n",
    "                        if not suf_b:\n",
    "                            adj_table[wrd][1][q][text[SA[i]+j+q]] += 1\n",
    "                            if text[SA[i]+j+q] == ' ':\n",
    "                                suf_b = True\n",
    "                        else:\n",
    "                            adj_table[wrd][1][q][' '] += 1\n",
    "\n",
    "    return word_counts, adj_table\n",
    "\n",
    "\n",
    "def precompute_counts(ln):\n",
    "    word_counts = {}\n",
    "    template = {}\n",
    "    for a in alphabet:\n",
    "        template[a] = 0\n",
    "    adj_table = {}\n",
    "    for i in range(len(SA)):\n",
    "        for j in range(1, ln):\n",
    "            wrd = text[SA[i]:SA[i]+j]\n",
    "            if wrd not in word_counts:\n",
    "                word_counts[wrd] = [0, i]\n",
    "                if j <= precomp_adj:\n",
    "                    adj_table[wrd] = [template.copy(), template.copy()]\n",
    "            word_counts[wrd][0] += 1\n",
    "            if j <= precomp_adj:\n",
    "                if SA[i]-1 > 0:\n",
    "                    adj_table[wrd][0][text[SA[i]-1]] += 1\n",
    "                if SA[i]+j < len(text):\n",
    "                    adj_table[wrd][1][text[SA[i]+j]] += 1\n",
    "\n",
    "    return word_counts, adj_table"
   ],
   "metadata": {
    "collapsed": false,
    "pycharm": {
     "name": "#%%\n"
    }
   }
  },
  {
   "cell_type": "code",
   "execution_count": 129,
   "outputs": [],
   "source": [
    "word_counts = 0\n",
    "adj_table = 0"
   ],
   "metadata": {
    "collapsed": false,
    "pycharm": {
     "name": "#%%\n"
    }
   }
  },
  {
   "cell_type": "code",
   "execution_count": 130,
   "outputs": [],
   "source": [
    "word_counts, adj_table = precompute_counts(precomp_length)"
   ],
   "metadata": {
    "collapsed": false,
    "pycharm": {
     "name": "#%%\n"
    }
   }
  },
  {
   "cell_type": "code",
   "execution_count": 10,
   "outputs": [],
   "source": [
    "rmq = RMQ(len(SA))\n",
    "\n",
    "for i in range(len(LCP)):\n",
    "    rmq.update(i, LCP[i])"
   ],
   "metadata": {
    "collapsed": false,
    "pycharm": {
     "name": "#%%\n"
    }
   }
  },
  {
   "cell_type": "code",
   "execution_count": 11,
   "outputs": [
    {
     "name": "stdout",
     "output_type": "stream",
     "text": [
      "[0, 1, 3, 3, 2]\n",
      " aalbumteż\n",
      " aanzaczął\n"
     ]
    },
    {
     "data": {
      "text/plain": "9999999"
     },
     "execution_count": 11,
     "metadata": {},
     "output_type": "execute_result"
    }
   ],
   "source": [
    "print(LCP[0:5])\n",
    "print(text[SA[2]:SA[2]+10])\n",
    "print(text[SA[3]:SA[3]+10])\n",
    "rmq.query(2, 1)"
   ],
   "metadata": {
    "collapsed": false,
    "pycharm": {
     "name": "#%%\n"
    }
   }
  },
  {
   "cell_type": "code",
   "execution_count": 12,
   "outputs": [],
   "source": [
    "# count the average amount of each letter\n",
    "def count_letters():\n",
    "    letters = {}\n",
    "    for a in alphabet:\n",
    "        letters[a] = 0\n",
    "    for l in text:\n",
    "        letters[l] += 1\n",
    "    sm = 0\n",
    "    for a in letters:\n",
    "        sm += letters[a]\n",
    "    return letters, sm\n",
    "\n",
    "letters, letters_sum = count_letters()"
   ],
   "metadata": {
    "collapsed": false,
    "pycharm": {
     "name": "#%%\n"
    }
   }
  },
  {
   "cell_type": "code",
   "execution_count": 13,
   "outputs": [],
   "source": [
    "def check_prefix(pre, w, init=0):\n",
    "    ln = len(pre)\n",
    "    lw = len(w)\n",
    "    for i in range(init, ln, 1):\n",
    "        if lw <= i:\n",
    "            return i-1, True\n",
    "        if w[i] != pre[i]:\n",
    "            return i, w[i] < pre[i]\n",
    "    return ln, True\n",
    "\n",
    "def find_highest(w, li, ri):\n",
    "    while li < ri:\n",
    "        preli = li\n",
    "        preri = ri\n",
    "        i = (li+ri)//2\n",
    "        lw = len(w)\n",
    "        ans = rmq.query(li+1, i+1)\n",
    "        if ans < lw:\n",
    "            ri = i\n",
    "        else:\n",
    "            li = i\n",
    "        if preli == li and preri == ri:\n",
    "            return li\n",
    "    return li\n",
    "\n",
    "def find_lowest(w, li, ri):\n",
    "    while li < ri:\n",
    "        preli = li\n",
    "        preri = ri\n",
    "        i = (li+ri)//2\n",
    "        lw = len(w)\n",
    "        ans = rmq.query(i+1, ri+1)\n",
    "        if ans < lw:\n",
    "            li = i\n",
    "        else:\n",
    "            ri = i\n",
    "        if preli == li and preri == ri:\n",
    "            return ri\n",
    "    return ri\n",
    "\n",
    "def count_words(w):\n",
    "    if len(w) <= precomp_length:\n",
    "        if w in word_counts:\n",
    "            return word_counts[w]\n",
    "        return 0, 0\n",
    "\n",
    "    li = 0\n",
    "    ri = len(SA)-1\n",
    "    lw = len(w)\n",
    "    i = -1\n",
    "    ans = 0\n",
    "    while li < ri:\n",
    "        preli = li\n",
    "        preri = ri\n",
    "        prei = i\n",
    "        i = (li+ri)//2\n",
    "        if prei < i:\n",
    "            init = rmq.query(prei+1, i+1)\n",
    "        else:\n",
    "            init = rmq.query(i+1, prei+1)\n",
    "        init = min(init, ans)\n",
    "        ans, direction = check_prefix(w, text[SA[i]:], init)\n",
    "        if ans < lw:\n",
    "            if direction:\n",
    "                li = i\n",
    "            else:\n",
    "                ri = i\n",
    "            if preli == li and preri == ri:\n",
    "                return 0, 0\n",
    "        else:\n",
    "            h = find_highest(w, i, ri)\n",
    "            l = find_lowest(w, li, i)\n",
    "            return h - l + 1, l\n"
   ],
   "metadata": {
    "collapsed": false,
    "pycharm": {
     "name": "#%%\n"
    }
   }
  },
  {
   "cell_type": "code",
   "execution_count": 110,
   "outputs": [],
   "source": [
    "def find_split(w, min_split=1, a=1, b=1):\n",
    "    abc = check_adj(w)\n",
    "    adj00 = check_alpha(abc[0])\n",
    "    adj01 = check_alpha(abc[1])\n",
    "    bc = max(adj00, adj01)\n",
    "    if bc == 0:\n",
    "        bc = 0.0001\n",
    "    hs = bc\n",
    "    #bc, _ = count_words(w)\n",
    "    #hs = bc\n",
    "    si = 0\n",
    "\n",
    "    for i in range(1, len(w)):\n",
    "        w1 = w[:i]\n",
    "        w2 = w[i:]\n",
    "        if w2 not in potential:\n",
    "            #bw1, _ = count_words(w1)\n",
    "            #bw2, _ = count_words(w2)\n",
    "            adj1 = check_alpha(check_adj(w1)[1])\n",
    "            adj2 = check_alpha(check_adj(w2)[0])\n",
    "\n",
    "            if max(adj1, adj2) < hs:\n",
    "                hs = max(adj1, adj2)\n",
    "                si = i\n",
    "        #if min(bw1, bw2) > hs:\n",
    "        #    hs = min(bw1, bw2)\n",
    "        #    si = i\n",
    "\n",
    "    if hs > bc * min_split:\n",
    "        return True, si, hs/bc\n",
    "    else:\n",
    "        return False, si, hs/bc"
   ],
   "metadata": {
    "collapsed": false,
    "pycharm": {
     "name": "#%%\n"
    }
   }
  },
  {
   "cell_type": "code",
   "execution_count": 15,
   "outputs": [
    {
     "name": "stdout",
     "output_type": "stream",
     "text": [
      "12 3151872\n",
      "ztabowychl\n",
      "ztabuantyk\n",
      "ztabuznale\n",
      "ztabwehrma\n"
     ]
    }
   ],
   "source": [
    "c, p = count_words(\"ztabu\")\n",
    "print(c, p)\n",
    "print(text[SA[p-1]:SA[p-1]+10])\n",
    "print(text[SA[p]:SA[p]+10])\n",
    "print(text[SA[p+c-1]:SA[p+c-1]+10])\n",
    "print(text[SA[p+c]:SA[p+c]+10])\n"
   ],
   "metadata": {
    "collapsed": false,
    "pycharm": {
     "name": "#%%\n"
    }
   }
  },
  {
   "cell_type": "code",
   "execution_count": 126,
   "outputs": [],
   "source": [
    "def check_adj2(w):\n",
    "    if len(w) <= precomp_adj:\n",
    "        return adj_table[w]\n",
    "    bs, sp = count_words(w)\n",
    "    prefixes = []\n",
    "    suffixes = []\n",
    "    for j in range(3):\n",
    "        prefixes.append({})\n",
    "        suffixes.append({})\n",
    "    for a in alphabet:\n",
    "        for j in range(3):\n",
    "            prefixes[j][a] = 0\n",
    "            suffixes[j][a] = 0\n",
    "    for i in range(sp, sp+bs):\n",
    "        pre_b = False\n",
    "        suf_b = False\n",
    "        for j in range(3):\n",
    "            if SA[i] - j - 1 > 0:\n",
    "                if not pre_b:\n",
    "                    prefixes[j][text[SA[i]-j-1]] += 1\n",
    "                    if text[SA[i]-j-1] == ' ':\n",
    "                        pre_b = True\n",
    "                else:\n",
    "                    prefixes[j][' '] += 1\n",
    "            if SA[i] + len(w) + j < len(text):\n",
    "                if not suf_b:\n",
    "                    suffixes[j][text[SA[i]+len(w)+j]] += 1\n",
    "                    if text[SA[i]+len(w)+j] == ' ':\n",
    "                        suf_b = True\n",
    "                else:\n",
    "                    suffixes[j][' '] += 1\n",
    "\n",
    "    return prefixes, suffixes\n",
    "\n",
    "def check_adj(w):\n",
    "    if len(w) <= precomp_adj:\n",
    "        return adj_table[w]\n",
    "    bs, sp = count_words(w)\n",
    "    prefixes = {}\n",
    "    suffixes = {}\n",
    "    if bs > 1000000:\n",
    "        for a in alphabet:\n",
    "            pre, _ = count_words(a + w)\n",
    "            suf, _ = count_words(w + a)\n",
    "            prefixes[a] = pre\n",
    "            suffixes[a] = suf\n",
    "    else:\n",
    "        for a in alphabet:\n",
    "            prefixes[a] = 0\n",
    "            suffixes[a] = 0\n",
    "        for i in range(sp, sp+bs):\n",
    "            if SA[i] - 1 > 0:\n",
    "                prefixes[text[SA[i]-1]] += 1\n",
    "            if SA[i] + len(w) < len(text):\n",
    "                suffixes[text[SA[i]+len(w)]] += 1\n",
    "\n",
    "    return prefixes, suffixes"
   ],
   "metadata": {
    "collapsed": false,
    "pycharm": {
     "name": "#%%\n"
    }
   }
  },
  {
   "cell_type": "code",
   "execution_count": 119,
   "outputs": [],
   "source": [
    "alpha_a = 1\n",
    "alpha_b = 1\n",
    "alpha_c = 1"
   ],
   "metadata": {
    "collapsed": false,
    "pycharm": {
     "name": "#%%\n"
    }
   }
  },
  {
   "cell_type": "code",
   "execution_count": 144,
   "outputs": [],
   "source": [
    "def check_alpha2(alpha):\n",
    "    aa = alpha_a\n",
    "    ab = alpha_b\n",
    "    ac = alpha_c\n",
    "    score = []\n",
    "    for neigh in alpha:\n",
    "        sm = 0\n",
    "        mx = 0\n",
    "        for l in neigh:\n",
    "            sm += neigh[l]\n",
    "            if neigh[l] > mx:\n",
    "                mx = neigh[l]\n",
    "\n",
    "        lscore = 0.0\n",
    "        if sm == 0:\n",
    "            sm = 1\n",
    "        for a in alphabet:\n",
    "            d1 = (letters[a])/letters_sum\n",
    "            d2 = (neigh[a])/sm\n",
    "            lscore += ((d2-d1)*(d2-d1))\n",
    "\n",
    "        if neigh[' '] == 0 and mx > 15:\n",
    "            lscore += 0.1\n",
    "\n",
    "        if neigh[' ']/sm > 0.45:\n",
    "            lscore = 0.05\n",
    "\n",
    "        score.append(lscore)\n",
    "\n",
    "    return float(score[0])*aa + float(score[1])*ab + float(score[2])*ac\n",
    "\n",
    "def check_alpha(alpha):\n",
    "    sm = 0\n",
    "    mx = 0\n",
    "    for l in alpha:\n",
    "        sm += alpha[l]\n",
    "        if alpha[l] > mx:\n",
    "            mx = alpha[l]\n",
    "\n",
    "    score = 0\n",
    "    if sm == 0:\n",
    "        sm = 1\n",
    "    for a in alphabet:\n",
    "        d1 = (letters[a])/letters_sum\n",
    "        d2 = (alpha[a])/sm\n",
    "        score += (d2-d1)*(d2-d1)\n",
    "    if alpha[' '] == 0 and mx > 15:\n",
    "        score += 0.5\n",
    "\n",
    "    return score"
   ],
   "metadata": {
    "collapsed": false,
    "pycharm": {
     "name": "#%%\n"
    }
   }
  },
  {
   "cell_type": "code",
   "execution_count": 18,
   "outputs": [],
   "source": [
    "def find_phrases(w):\n",
    "    c, p = count_words(w)\n",
    "    phrases = []\n",
    "    for i in range(p, p+c, 1):\n",
    "        lf = SA[i]\n",
    "        while text[lf] != ' ':\n",
    "            lf -= 1\n",
    "        rt = SA[i]\n",
    "        while text[rt] != ' ':\n",
    "            rt += 1\n",
    "        phrases.append((text[lf+1:rt], SA[i]-lf))\n",
    "    return phrases"
   ],
   "metadata": {
    "collapsed": false,
    "pycharm": {
     "name": "#%%\n"
    }
   }
  },
  {
   "cell_type": "code",
   "execution_count": 19,
   "outputs": [],
   "source": [
    "def split_phrase(ph, p, l):\n",
    "    w1 = ph[:p-1]\n",
    "    w2 = ph[p+l-1:]\n",
    "    bs1 = 2\n",
    "    bs2 = 2\n",
    "\n",
    "    for i in range(5, min(12,len(w2))):\n",
    "        wrd = w2[:i]\n",
    "        ww1 = check_adj(wrd)\n",
    "        ans11 = check_alpha(ww1[0])\n",
    "        _, si, _ = find_split(wrd)\n",
    "        if si > 0:\n",
    "            ww21 = wrd[:si]\n",
    "            ans11 = min(ans11, check_alpha(check_adj(ww21)[0]))\n",
    "        #print(wrd, ans11)\n",
    "        if ans11 < bs2:\n",
    "            bs2 = ans11\n",
    "\n",
    "    for i in range(5, min(12, len(w1))):\n",
    "        wrd = w1[-i:]\n",
    "        ww1 = check_adj(wrd)\n",
    "        ans12 = check_alpha(ww1[1])\n",
    "        _, si, _ = find_split(wrd)\n",
    "        if si > 0:\n",
    "            ww21 = wrd[:si]\n",
    "            ans12 = min(ans12, check_alpha(check_adj(ww21)[0]))\n",
    "        #print(wrd, ans12)\n",
    "        if ans12 < bs1:\n",
    "            bs1 = ans12\n",
    "\n",
    "    return bs1, bs2\n"
   ],
   "metadata": {
    "collapsed": false,
    "pycharm": {
     "name": "#%%\n"
    }
   }
  },
  {
   "cell_type": "code",
   "execution_count": 20,
   "outputs": [],
   "source": [
    "#czasach 0.031123297961619303 0.020721112185516068\n",
    "#eliczne 0.6118221203851923 0.0252523649090908\n",
    "#niem 0.023549158377852437 999\n",
    "#demo 0.03331824185837327 0.14103016019263753\n",
    "#kowych 0.6639164598939549 999\n",
    "#wzięte 0.018950865005565084 0.12897087396779425\n",
    "def check_phrases(w, mx=50):\n",
    "    phs = find_phrases(w)\n",
    "    phs = random.sample(phs, min(mx,len(phs)))\n",
    "    mn1 = 0\n",
    "    mn2 = 0\n",
    "    for ph in phs:\n",
    "        sc1, sc2 = split_phrase(ph[0], ph[1], len(w))\n",
    "        if sc1 == 2:\n",
    "            sc1 = 0.05\n",
    "        if sc2 == 2:\n",
    "            sc2 = 0.05\n",
    "        mn1 += sc1\n",
    "        mn2 += sc2\n",
    "\n",
    "    if len(phs) == 0:\n",
    "        return 1, 1\n",
    "    return mn1/len(phs), mn2/len(phs)\n",
    "\n",
    "def check_phrases0(w, mx=50):\n",
    "    phs = find_phrases(w)\n",
    "    phs = random.sample(phs, min(mx,len(phs)))\n",
    "    mn1 = 2\n",
    "    mn2 = 2\n",
    "    for ph in phs:\n",
    "        sc1, sc2 = split_phrase(ph[0], ph[1], len(w))\n",
    "        if sc1 < mn1:\n",
    "            mn1 = sc1\n",
    "        if sc2 < mn2:\n",
    "            mn2 = sc2\n",
    "    if len(w) > 4:\n",
    "        if mn1 == 2:\n",
    "            mn1 = 0.05\n",
    "        if mn2 == 2:\n",
    "            mn2 = 0.05\n",
    "    return mn1, mn2"
   ],
   "metadata": {
    "collapsed": false,
    "pycharm": {
     "name": "#%%\n"
    }
   }
  },
  {
   "cell_type": "code",
   "execution_count": 21,
   "outputs": [],
   "source": [
    "def find_suffixes(breakpoint = 0.04, breakpoint2 = 100, breakpoint3 = 0.001):\n",
    "    suffixes = {}\n",
    "    for word in word_counts:\n",
    "        if len(word) <= 4 and count_words(word)[0] > breakpoint2:\n",
    "            adjs = check_adj(word)\n",
    "            sm1 = 0\n",
    "            for a in alphabet:\n",
    "                sm1 += adjs[0][a]\n",
    "            if adjs[0][' ']/sm1 <= breakpoint3:\n",
    "                sm2 = 0\n",
    "                for a in alphabet:\n",
    "                    sm2 += adjs[1][a]\n",
    "                if adjs[1][' ']/sm2 > breakpoint*len(word):\n",
    "                    suffixes[word] = adjs[1][' ']/sm2\n",
    "    return suffixes\n",
    "\n",
    "potential = find_suffixes()"
   ],
   "metadata": {
    "collapsed": false,
    "pycharm": {
     "name": "#%%\n"
    }
   }
  },
  {
   "cell_type": "code",
   "execution_count": 22,
   "outputs": [],
   "source": [
    "def resolve_word(w, debug=False):\n",
    "    if len(w) <= 3:\n",
    "        ans, s, _ = find_split(w, 50)\n",
    "    else:\n",
    "        ans, s, _ = find_split(w)\n",
    "    if ans:\n",
    "        if not debug:\n",
    "            return False\n",
    "        print(w[:s], w[s:])\n",
    "        ans1 = check_alpha(check_adj(w[:s])[0])\n",
    "        ans2 = check_alpha(check_adj(w[s:])[1])\n",
    "        return False, ans, ans1, ans2\n",
    "    else:\n",
    "        ww = check_adj(w)\n",
    "        ans1 = check_alpha(ww[0])\n",
    "        ans2 = check_alpha(ww[1])\n",
    "\n",
    "    if not debug:\n",
    "        if ans1 and ans2:\n",
    "            return True\n",
    "        return False\n",
    "    else:\n",
    "        if ans1 and ans2:\n",
    "            return True, ans, ww, ans1, ans2\n",
    "        return False, ans, ww, ans1, ans2"
   ],
   "metadata": {
    "collapsed": false,
    "pycharm": {
     "name": "#%%\n"
    }
   }
  },
  {
   "cell_type": "code",
   "execution_count": 143,
   "outputs": [],
   "source": [
    "def resolve_pair(w1, w2, a=0.15, b=3.5, c=3, d=0.2, e=0.2):\n",
    "    _, _, h1 = find_split(w1)\n",
    "    _, _, h2 = find_split(w2)\n",
    "\n",
    "    ww1 = check_adj(w1)\n",
    "    ans11 = check_alpha(ww1[0])\n",
    "    ans12 = check_alpha(ww1[1])\n",
    "    ww2 = check_adj(w2)\n",
    "    ans21 = check_alpha(ww2[0])\n",
    "    ans22 = check_alpha(ww2[1])\n",
    "    ans1 = max(ans11, ans12)\n",
    "    ans2 = max(ans21, ans22)\n",
    "\n",
    "    if not (h1 == 1 and h2 == 1):\n",
    "        if h2 == 1:\n",
    "            return -1, h1, h2, ans1, ans2\n",
    "        if h1 == 1:\n",
    "            return 1, h1, h2, ans1, ans2\n",
    "\n",
    "    sp11, sp12 = check_phrases(w1)\n",
    "    sp21, sp22 = check_phrases(w2)\n",
    "\n",
    "    if not ((sp11 > sp21 * b or sp12 > sp22 * b) and (sp11 * b < sp21 or sp12 * b < sp22)):\n",
    "        if sp11 > sp21 * b or sp12 > sp22 * b:\n",
    "            return -1, h1, h2, ans1, ans2, sp11, sp12, sp21, sp22\n",
    "        if sp11 * b < sp21 or sp12 * b < sp22:\n",
    "            return 1, h1, h2, ans1, ans2, sp11, sp12, sp21, sp22\n",
    "\n",
    "    if h1/h2 < a:\n",
    "        return -1, h1, h2, ans1, ans2, sp11, sp12, sp21, sp22\n",
    "    if h2/h1 < a:\n",
    "         return 1, h1, h2, ans1, ans2, sp11, sp12, sp21, sp22\n",
    "\n",
    "    if ans1 > ans2 * c:\n",
    "        return -1, h1, h2, ans1, ans2, sp11, sp12, sp21, sp22\n",
    "    if ans1 * c < ans2:\n",
    "        return 1, h1, h2, ans1, ans2, sp11, sp12, sp21, sp22\n",
    "\n",
    "    if  sp11 + sp12 - d*h1 + e*ans1 > sp21 + sp22 - d*h2 + e*ans2:\n",
    "        return -1, h1, h2, ans1, ans2, sp11, sp12, sp21, sp22\n",
    "    else:\n",
    "        if sp11 + sp12 - d*h1 + e*ans1 < sp21 + sp22 - d*h2 + e*ans2:\n",
    "            return 1, h1, h2, ans1, ans2, sp11, sp12, sp21, sp22\n",
    "        else:\n",
    "            return 0, h1, h2, ans1, ans2, sp11, sp12, sp21, sp22"
   ],
   "metadata": {
    "collapsed": false,
    "pycharm": {
     "name": "#%%\n"
    }
   }
  },
  {
   "cell_type": "code",
   "execution_count": 24,
   "outputs": [],
   "source": [
    "def load_tests(file='.\\P4b-data\\\\test_for_task1.txt'):\n",
    "    complete_database = []\n",
    "    i = 0\n",
    "    with open(file, 'r', encoding='utf8') as base_vectors_lines:\n",
    "        for line in base_vectors_lines:\n",
    "            #if i > 10:\n",
    "            #    break\n",
    "            line = line.strip()\n",
    "            line = line.split(' ')\n",
    "            complete_database.append(line[0])\n",
    "            complete_database.append(line[1])\n",
    "            i += 1\n",
    "\n",
    "    return complete_database\n",
    "\n",
    "tests = load_tests()"
   ],
   "metadata": {
    "collapsed": false,
    "pycharm": {
     "name": "#%%\n"
    }
   }
  },
  {
   "cell_type": "code",
   "execution_count": 122,
   "outputs": [],
   "source": [
    "def resolve_tests(tests, a=0.0, b=3.239, c=8.251, d=0.2, e=0.1538, f=1, g=1, h=1, debug=False):\n",
    "    global alpha_a\n",
    "    global alpha_b\n",
    "    global alpha_c\n",
    "    alpha_a = f\n",
    "    alpha_b = g\n",
    "    alpha_c = h\n",
    "    score = 0\n",
    "    for i in range(0, len(tests), 2):\n",
    "        res = resolve_pair(tests[i], tests[i+1], a, b, c, d, e)\n",
    "        if res[0] == 1:\n",
    "            score += 1\n",
    "        if res[0] == 0:\n",
    "            score += 0.5\n",
    "        if debug:\n",
    "            print(tests[i], tests[i+1], res)\n",
    "\n",
    "    return (score*2) / len(tests)"
   ],
   "metadata": {
    "collapsed": false,
    "pycharm": {
     "name": "#%%\n"
    }
   }
  },
  {
   "cell_type": "code",
   "execution_count": 123,
   "outputs": [],
   "source": [
    "k = 500\n",
    "def optimize_resolve(a, b, c, d, e, f, g, h):\n",
    "    return resolve_tests(tests[k*10:k*12], a, b, c, d, e, f, g, h)"
   ],
   "metadata": {
    "collapsed": false,
    "pycharm": {
     "name": "#%%\n"
    }
   }
  },
  {
   "cell_type": "code",
   "execution_count": 145,
   "outputs": [
    {
     "name": "stdout",
     "output_type": "stream",
     "text": [
      "swoje chowa (1, 1.0, 0.14120494658191463, 0.15739842577833676, 0.46381582109037145)\n",
      "polski cznymi (1, 1.0, 0.11066580998289224, 0.21436282158660086, 0.7938480250074085)\n",
      "nasmarować oposławnio (1, 0.4960170852957674, 0.13820604806675899, 0.9752336570525748, 0.9858727122216413, 0.04444737836324626, 0.05, 0.06901278651099622, 0.06337552207506761)\n",
      "lepiej ficzne (1, 1.0, 0.7911175446527434, 0.23507165206523925, 0.9101832861054792)\n",
      "publiczne umiejscow (1, 1.0, 0.2310851512692286, 0.38792912715312855, 0.2839920986110165)\n",
      "podane podcza (1, 0.3818226003319466, 0.02397604130368258, 0.1825797677729446, 1.4625537435346092, 0.0544833290084581, 0.1292967550686197, 0.052444574877828824, 0.04313036779524498)\n",
      "nastąpił telskani (1, 1.0, 0.18834464891954317, 0.6142139677264921, 0.8966303124922654)\n",
      "ich hod (1, 0.8534340861165657, 0.0882550181704508, 0.22824115809338236, 0.907792597085061, 0.04946860235839825, 0.05790591556769513, 0.09165248798883698, 0.3024749942794862)\n",
      "zostały kluczow (1, 0.14236027298301582, 0.2288906379323821, 0.5688355332130648, 0.8242447078849329, 0.06040625252153105, 0.0680566863297609, 0.06187980431756057, 0.2295828086006431)\n",
      "akcjach olskiej (1, 0.8039407352769675, 0.2687044438741244, 0.24229246712384242, 1.4785403491536946, 0.0512298667681117, 0.08201787899963421, 0.3829257178373446, 0.0662201975416239)\n",
      "prac towa (1, 1.0, 0.22577282543295688, 0.17685193017599476, 0.2900840174866878)\n",
      "reklama howanie (-1, 0.5008266998253487, 0.15538867825399497, 0.36598769942933207, 1.471596705103052, 0.05335786383614294, 0.31705530395090326, 0.10232959278900751, 0.05121380704816003)\n",
      "świadczenia brozwiązane (1, 1.0, 0.1929707572889905, 0.36576274613640125, 1.0353192566172231)\n",
      "ładnie wszyst (1, 0.08209126594555471, 0.2593604954575686, 0.6171195852003725, 1.4801462292194267, 0.0681157427397539, 0.0918616791107328, 0.06329061515124998, 0.22025080372195638)\n",
      "systemu możliwo (1, 0.1613577108851539, 0.5265880511023745, 0.6089983322181217, 1.5385485075474934, 0.04932672350521655, 0.04753441894089507, 0.05410562748837668, 0.5202875921684271)\n",
      "wykonany projekto (1, 1.0, 0.1902437076235426, 0.1454650952471258, 1.2653741890861498)\n",
      "poseł aniem (1, 1.0, 0.34140538133772225, 0.3848511183674772, 0.1496192360143683)\n",
      "ścigacz zaszczy (1, 0.196033976960642, 0.12376080991804231, 1.0209826532432469, 1.449053189200635, 0.018770144750666764, 0.05, 0.14702744596785697, 0.08338588714680709)\n",
      "piaskowcu nawysokie (1, 0.23916689463153715, 0.16573004054191182, 0.9543008865388303, 0.23005917771426004, 0.019720481833850372, 0.07614535153964795, 0.09833647145228741, 0.14814492540257165)\n",
      "całkowitej mieszkując (1, 1.0, 0.41513482186692247, 0.12846266648392482, 1.3753645567304733)\n",
      "tej rów (1, 0.9379320003542515, 0.7096552153742033, 0.111855491517938, 0.3581290660621118, 0.05889833263168044, 0.04787873954562924, 0.05004555673854514, 0.3549691884340325)\n",
      "historię projekte (1, 1.0, 0.1663086646623679, 0.11561719719916057, 1.4474860810866383)\n",
      "wzrostu ektusta (1, 0.1556477932758706, 0.07630437618023879, 0.7128108385318797, 1.501303578071533, 0.06128473256470161, 0.04611561392074934, 0.048484187175047454, 0.09227721572928252)\n",
      "piernikmożna trafiaładnie (1, 0.34256172439995014, 0.14533577272798062, 1.0209826532432469, 1.008746327847239, 0.05, 0.018825608563515644, 0.05645148768444304, 0.07330963903414726)\n",
      "naukowych aleniedal (1, 1.0, 0.05813572814605349, 0.24680272606801182, 0.9974989568716687)\n",
      "reprezentujący prawieniajakoś (1, 1.0, 0.2091291371312299, 0.20876362793107348, 0.9715967051030521)\n",
      "gwiazd reniem (1, 1.0, 0.04224860426304749, 0.1144018035192665, 1.2090532508223384)\n",
      "piękną tyczny (1, 1.0, 1.0, 0.3133407594631881, 0.6708634675126399, 0.03780391190231715, 0.03268165223109347, 0.056894887253079535, 0.11570399720692723)\n",
      "jest odzi (1, 1.0, 0.3662896153864047, 0.04444737836324626, 0.14853972984827285)\n",
      "wspólnie gramowan (1, 1.0, 0.4031327057693563, 0.295444954859731, 1.39123430419705)\n",
      "mam żon (1, 0.4634437596863179, 0.31599854100792457, 0.10377288885076393, 0.21234241076352628, 0.060790603007761394, 0.12232090779358948, 0.04931779351633405, 0.18962230801711008)\n",
      "gdyni cznie (1, 1.0, 0.16248841639911926, 0.5565541292065694, 0.6191956163616701)\n",
      "koszty jamiel (1, 1.0, 0.09795865001447933, 0.11071201680630914, 1.0305815707470343)\n",
      "łatwe aukow (1, 1.0, 0.10001123712778089, 0.07681112540564584, 1.4314813957238695)\n",
      "sposób przewo (1, 1.0, 0.14138462154114234, 0.11885219699389234, 0.9728087865223655)\n",
      "brali alnie (1, 1.0, 0.15564273256540875, 0.1484730962586207, 0.5996703119168763)\n",
      "ale łąc (1, 0.4754639645629192, 0.3832986021387256, 0.11925175751930421, 1.4359475091309362, 0.08964353764219395, 0.17544487658822802, 0.08387981150802401, 0.35896869696733913)\n",
      "pyrkał ublika (1, 0.49443158854793695, 0.34542264517005156, 0.9874864552170378, 1.4846154870006565, 0.056673104920675045, 0.095479584098801, 0.10781153183328934, 0.28958293091871723)\n",
      "dniach ozosta (1, 0.24971975347981443, 0.04011155909462863, 0.7800295389421714, 1.2735255055793597, 0.05729971829472235, 0.05026928370829403, 0.08902649776873395, 0.3373273697454964)\n",
      "ryszard liwiena (1, 1.0, 0.11980974998094995, 0.6546248064159264, 0.8729489690464826)\n",
      "obecnie apóźnie (1, 1.0, 0.04637508599905999, 0.3448666652994298, 1.501303578071533)\n",
      "wielkiego ochodowym (1, 1.0, 0.3634013614519236, 0.09411076779316753, 1.1516293564833817)\n",
      "rząd tawo (1, 1.0, 0.05364351501315681, 0.13992491617671274, 1.4134032887712378)\n",
      "wstrzymania edstawioneg (1, 1.0, 0.2676333445879679, 0.21511384340076797, 1.4426511093624395)\n",
      "się odz (1, 1.0, 0.13530937044315536, 0.061183064092560566, 0.40373310692544057)\n",
      "urbanizacja chiskierowa (1, 0.856156841040118, 0.04493639808471957, 0.509240805057458, 0.9752336570525748, 0.05230356937581701, 0.04005422344161811, 0.05370671460799468, 0.26353193669311575)\n",
      "polsce ujesię (1, 0.4624842553858773, 0.16622844151177918, 0.7709038991311495, 0.7497374842127038, 0.05691368536352673, 0.04957334957511874, 0.04600974074963045, 0.058740224811400364)\n",
      "przemawiał kologiczny (1, 0.6568853848670732, 0.9740971658261102, 1.10486887137716, 0.6054556090865315, 0.048681008496717845, 0.038220824187482516, 0.0618788340775483, 0.13628865247641545)\n",
      "rozszerzenia nieproblemat (1, 1.0, 0.09757862979262012, 0.09483022893754699, 0.9752336570525748)\n",
      "będziemy waniesto (1, 0.35988188579154207, 0.13369754711860946, 0.24520176459622034, 0.4265639801835775, 0.037567172285015465, 0.06718321583126262, 0.02421431338879343, 0.07087522982466349)\n",
      "życia anych (1, 0.24131787986356015, 0.2834484815509515, 0.5960470883967, 0.6872105403626866, 0.055962535480135515, 0.048648636300300835, 0.06431014477058818, 0.05237147442296375)\n",
      "nie rów (1, 1.0, 0.7096552153742033, 0.03831232021383624, 0.3581290660621118)\n",
      "podstępem żytkowani (1, 0.3866748137155428, 0.5127188608754797, 1.0209826532432469, 1.5012553363924872, 0.05, 0.045307851245123265, 0.10534494274624485, 0.06316472532599107)\n",
      "dokumenty racychron (1, 0.984452466666724, 0.312735379051199, 0.12223286188156866, 0.9846154870006564, 0.08967205421765548, 0.04084298655076788, 0.06470832779873166, 0.17862501184405336)\n",
      "proszę ranicz (1, 1.0, 0.06560798359905838, 0.49614298195417533, 1.5188596693145526)\n",
      "się cał (1, 1.0, 0.6617713875010401, 0.061183064092560566, 0.13954831448547483)\n",
      "posiadanych wprowadzeni (1, 1.0, 0.2708823122478979, 0.2241348886326904, 0.830169814102306)\n",
      "wychowaniem oprzeniesie (1, 0.28739824085128357, 0.1334453897841386, 0.5027990701219518, 0.9314813957238696, 0.07973792169581831, 0.034989950717857723, 0.07556672721857774, 0.3550667262313348)\n",
      "celu rowa (1, 0.21677489208306852, 0.07245394508612085, 0.3434544470093502, 0.903927152111121, 0.054334053444609315, 0.03849586958617648, 0.0810538874886833, 0.2972042106652914)\n",
      "jak rac (1, 0.8293332930117056, 0.2201614065348198, 0.1262138305755339, 0.29043469239580155, 0.056914974175851646, 0.139500221930684, 0.08501441685537836, 0.2149386586653458)\n",
      "odpowiedzialny kresuzastosowa (1, 1.0, 0.04328558085141568, 0.2422808912453356, 0.9314813957238696)\n",
      "niektórych dzielczego (1, 0.9153729165841575, 0.508645120248518, 0.58949437609895, 1.0206526095609951, 0.05095314455594904, 0.041278306705890395, 0.03208398293900464, 0.06910621637695769)\n",
      "zmniejszyć szkoleniez (1, 1.0, 0.30999664999255866, 0.2086453060733486, 1.3388760231343284)\n",
      "swoją tawki (1, 1.0, 0.12424506403034294, 0.08399055033207461, 1.3948948873080798)\n",
      "ponadto uczoneg (1, 0.6734167435409766, 0.09410267019454494, 0.6648884468954427, 0.89123430419705, 0.048902547650298056, 0.04858199100648333, 0.03156365192476353, 0.043651775652007646)\n",
      "chciałem będzieba (1, 1.0, 0.11010771867393071, 0.2015881868187694, 0.7667775560181423)\n",
      "przebywania harakterzes (1, 0.2071671474000333, 0.026506090810403626, 1.0012553363924872, 0.9715967051030521, 0.04031971326619508, 0.1520512305014671, 0.073039973796831, 0.39525624035858853)\n",
      "stawki łasnym (1, 1.0, 0.18624643699706037, 0.12982398098200248, 1.4543008865388303)\n",
      "potem rowni (1, 0.5285923904414718, 0.5049284180128355, 0.16943717290610055, 0.32633961037344944, 0.05087153658474335, 0.04767225131691689, 0.12543123360339706, 0.1749562368374879)\n",
      "usług zania (1, 1.0, 0.2409573548439836, 0.05864820008916021, 0.7257592631964098)\n",
      "czternaście astosowania (1, 0.7527573400499992, 0.11202277648662756, 0.9711854742048449, 1.2816098028557041, 0.021636829470631683, 0.026303640404715306, 0.08408639594382201, 0.06260126873238193)\n",
      "firmami przezpa (1, 0.26581808447173, 0.04047285569076145, 0.22335309302834472, 1.017659502232796, 0.05995462642404885, 0.039945702344577845, 0.06868774813564085, 0.15913848469636283)\n",
      "określonej jestrozwią (1, 1.0, 0.10236972436650173, 0.09993186690621976, 0.9426511093624395)\n",
      "mechanizmu arównieżna (1, 0.5147753957727806, 0.28157505717768166, 0.27480645672050485, 0.2028281364689682, 0.04382510031821628, 0.03966370943013276, 0.06540298657004404, 0.15766278195424419)\n",
      "nominowanych oddaniasięcz (1, 0.33512316187378366, 0.2790145142156698, 0.9858727122216413, 0.9846154870006564, 0.05108081232694407, 0.02860456052980819, 0.08065027263422696, 0.6038823260402014)\n",
      "uwagi żywan (1, 1.0, 0.2626454218361686, 0.2371291272177438, 1.2525884248014196)\n",
      "dotychczasowy izowanebyłyna (-1, 0.3716434434960476, 0.13789244841417286, 0.8433426826772263, 1.008746327847239, 0.048039261109052864, 0.1209694625157509, 0.061148276925498145, 0.02765206147198558)\n",
      "morzach edziała (1, 0.1998373493044088, 0.051684017331700714, 0.9543008865388303, 0.7654471046897051, 0.05937428533557239, 0.06320575765219519, 0.06611115637277236, 0.3435258469335998)\n",
      "gdyby obnie (1, 1.0, 0.02851920995496824, 0.17772062237532724, 1.3192371463265653)\n",
      "interpelacji dopasowałast (1, 1.0, 0.9144429119527145, 0.27436459393623025, 0.9572653965475081)\n",
      "podmiot stępnym (1, 1.0, 0.22041417311887535, 0.19316146126591582, 1.2203523487042756)\n",
      "materiału towychnie (-1, 0.9126197763989629, 0.24926556415083367, 0.7914719449180578, 0.32045209282593706, 0.06467572892021338, 0.09793131165646139, 0.029779553165690763, 0.0636447972240559)\n",
      "światła łaściwo (1, 1.0, 0.4297188120176907, 0.0607319104978838, 1.5385485075474934)\n",
      "ogłosiła rzyjęcie (1, 1.0, 0.6658585500633998, 0.19712092364458178, 1.4846154870006565)\n",
      "rodziny ropejsk (1, 1.0, 0.6064432829152555, 0.07209807514576075, 1.5012553363924872)\n",
      "centrum jalnych (1, 1.0, 0.35911735724654326, 0.05885887118825125, 1.1741051424034863)\n",
      "tempo łalno (1, 0.6135748030299133, 0.5103435217292159, 0.06961688002853596, 1.5385485075474934, 0.05388916645460671, 0.21621663016026244, 0.06913736514663406, 0.557770031126215)\n",
      "jak har (1, 0.8293332930117056, 0.07569600067498342, 0.1262138305755339, 0.658981661005732, 0.07995048547939716, 0.1049993285488965, 0.0964178996319487, 0.1284952659987126)\n",
      "otuchy prawki (1, 0.0834662157908019, 0.058887351410162346, 0.8905742168325457, 1.39123430419705, 0.05108081232694407, 0.07614535153964795, 0.06368594389202391, 0.04939635901881933)\n",
      "projektu właściwo (1, 1.0, 0.4297188120176907, 0.20703862031713013, 1.5385485075474934)\n",
      "części tosowa (1, 1.0, 0.1285189570324366, 0.1919700917241112, 1.4625537435346092)\n",
      "młodzieży wszystkic (1, 0.5403392821333298, 0.516455537366803, 0.6150727319025144, 1.5280200552523364, 0.04974986145016161, 0.045937673225167244, 0.0701824066787247, 0.7672968411376483)\n",
      "pojedyncze szczenieto (1, 1.0, 0.10070188155424897, 0.14122057243308644, 0.8966303124922654)\n",
      "odchyłek będziesi (1, 0.4219051912886167, 0.055160815364007514, 1.0206526095609951, 1.5305815707470343, 0.019881583453024612, 0.023617951480363202, 0.08756568283239252, 0.5432081945044861)\n",
      "banków sowani (1, 1.0, 0.35292110183895686, 0.09429615560532957, 0.8587836696696299)\n",
      "tutaj jając (1, 1.0, 0.5726102340442636, 0.06447026680846878, 0.9857227618737706)\n",
      "jest niac (1, 1.0, 0.0405208549331232, 0.04444737836324626, 0.9831309620446055)\n",
      "procedury ostępnych (1, 1.0, 0.3809541501785232, 0.08807752532848859, 1.4858727122216413)\n",
      "projekt ujących (1, 1.0, 0.5442605678403049, 0.2407294772628828, 0.5623764350237539)\n",
      "realizowanych entarzystapra (1, 1.0, 0.22465243000077043, 0.21775927610626378, 0.9974989568716687)\n",
      "nowelizacji atkowaniado (1, 1.0, 0.09201946212244114, 0.6375500390001856, 0.9858727122216413)\n",
      "zmiana konywa (1, 1.0, 0.5305709758587975, 0.11200245703036517, 1.1306530233546672)\n",
      "konstytucji lejnychlata (1, 1.0, 0.11413639580506967, 0.2456029466254145, 0.9715967051030521)\n",
      "klęski przemy (1, 0.40248796861340674, 0.12463778032470818, 0.29261275869838094, 1.1035193482749839, 0.05974925590653395, 0.08667768050407214, 0.057209343799265726, 0.12193306106582401)\n",
      "pytanie osowano (1, 1.0, 0.3822828790328153, 0.13657636144812152, 1.3963641596190908)\n",
      "odcinkach wanieprze (1, 0.657644090337614, 0.04810386079547742, 0.45779451523442233, 1.185571322064388, 0.06193131231637102, 0.042906850656726066, 0.04406760649436082, 0.19813399511736488)\n",
      "wpływ becni (1, 1.0, 0.5882265284033248, 0.0916101396655526, 1.39123430419705)\n",
      "ruchu uprze (1, 0.30420899565903103, 0.05188344994464318, 0.5618888110624803, 0.6395565253231966, 0.05548402810554939, 0.04177361100577988, 0.052447918522149785, 0.2763973500344844)\n",
      "całego iniego (1, 1.0, 0.43299923744039076, 0.6077881687097549, 0.2726241940354109)\n",
      "wszystkie rzewidzie (1, 1.0, 0.08055623214638195, 0.14850304198292766, 0.9846154870006564)\n",
      "autorytetem trzymałapro (1, 0.21652115350915693, 0.043602798985868906, 0.6301292314668357, 1.001303578071533, 0.051994433122362224, 0.06227033377140191, 0.24225401325840015, 0.89123430419705)\n",
      "urodzajne ministrac (1, 0.7784135491509708, 0.1431131653068463, 0.5218354131673548, 1.4591464848962907, 0.037308737993088814, 0.057468135537942285, 0.21066968005741607, 0.521030586247591)\n",
      "terenie wiązków (-1, 0.2160730053002337, 1.0, 1.1165430604159123, 0.9166131151832803)\n",
      "był tra (1, 1.0, 0.5694178285635657, 0.07193812754970114, 0.16526704325843466)\n",
      "przedmówców aniemnowego (-1, 0.7161703698159272, 0.7241114683335566, 0.4353099612693096, 0.5154846379830574, 0.04392821654347741, 0.07369079168098139, 0.03859089214612592, 0.046602214053897105)\n",
      "część bardz (1, 1.0, 1.0, 0.1783849133871551, 0.9685662670832904, 0.0534200894504998, 0.049837438765833374, 0.05575656957060562, 0.18509932307396995)\n",
      "nie śmi (1, 1.0, 0.19804450702287996, 0.03831232021383624, 1.0606565871207745)\n",
      "urządzenie starczając (1, 1.0, 0.5105931621058583, 0.15502753704322722, 1.3401565414993364)\n",
      "horyzontu klubudzia (1, 0.3838213347158405, 0.33306006752365264, 0.4917681983889283, 1.0206526095609951, 0.06338630069265569, 0.06084093872014363, 0.051911014665583594, 0.38345062958385495)\n",
      "walki otych (1, 1.0, 0.07715805935859708, 0.06972202230030532, 0.6620577811340653)\n",
      "pociągi środkow (-1, 0.8367474126034056, 1.0, 0.13234880999394008, 0.7477907375585486)\n",
      "opracowanie cześniejszy (1, 1.0, 0.13034686860051664, 0.11686966596596304, 1.15599819168922)\n",
      "kupicha ależywy (1, 0.11137407545607289, 0.12349189621106994, 1.0209826532432469, 0.7473906778347372, 0.05, 0.022745738605923396, 0.14655192398197775, 0.205974869240571)\n",
      "rezydował zostałust (1, 0.48486482076297205, 0.08362287433854951, 0.9711854742048449, 0.8753645567304733, 0.043651775652007646, 0.06259155937576484, 0.06200834094650709, 0.09538811215611044)\n",
      "promowało eniemożli (1, 0.1729507926884704, 0.03795575068853448, 0.9874864552170378, 1.4543008865388303, 0.04563902967251173, 0.02337249336171308, 0.046751404279653457, 0.10669437776514216)\n",
      "się zaj (1, 1.0, 0.4342092774420356, 0.061183064092560566, 0.18751092084372725)\n",
      "filosofia spółpracy (1, 0.9009546369731957, 0.09970578493317073, 0.9715967051030521, 1.4543008865388303, 0.04911236947447261, 0.03983730709327131, 0.0740151651768344, 0.05011412521044067)\n",
      "jako czna (1, 1.0, 0.15281645469255423, 0.06732376640783505, 0.6583853508858202)\n",
      "odległego jektuzost (1, 1.0, 0.19393745721430103, 0.22358285032815542, 0.89123430419705)\n",
      "graficznych niewszystki (1, 0.2128419646946947, 0.12799511119211401, 1.071739453407975, 0.9203051919639416, 0.10320043277771437, 0.04389688326195951, 0.045025127987941886, 0.14606340437948728)\n",
      "przygotowanie specjalnejsta (1, 1.0, 0.17351532434686331, 0.09715660961138602, 1.001303578071533)\n",
      "opinię podsta (1, 0.7989565729696064, 0.06575458232650125, 0.7549385153905287, 1.4443180836141956, 0.052346596909456956, 0.057400828573757695, 0.06638681257577018, 0.14773524613512426)\n",
      "przez proje (1, 1.0, 0.07597591855682993, 0.042477337129327275, 1.4860454973236548)\n",
      "pamięci jednost (1, 1.0, 0.2279508583924132, 0.05923074602595205, 0.9244570834661286)\n",
      "próbował komórkac (1, 1.0, 0.22780405648227364, 0.07730980242475646, 1.0280200552523364)\n",
      "będziemy rowadzen (1, 0.35988188579154207, 0.4270134905028399, 0.24520176459622034, 1.4846154870006565, 0.03713398719875209, 0.06613444176529666, 0.10317669932965653, 0.18757250365566716)\n",
      "proszę urodzi (1, 1.0, 0.04283786313279109, 0.49614298195417533, 1.1080551941724217)\n",
      "holandii aleczeni (1, 0.6696711035797481, 0.1266581187571476, 0.2423660716368581, 0.3977204987984363, 0.05917991725195192, 0.09356483619724018, 0.09241295975004053, 0.08069233019123835)\n",
      "skórzane niestani (1, 0.8554131965255178, 0.30823100164766204, 0.30467396242342015, 0.47416034506193566, 0.05119873293112858, 0.10326919469652855, 0.061455357544851374, 0.2135654857537794)\n",
      "została kowaniu (-1, 0.1229019667102674, 1.0, 0.5956007237903476, 0.16978639420183214)\n",
      "pracownicy radziadkar (1, 1.0, 0.3562400320005216, 0.1872822640668293, 0.9846154870006564)\n",
      "instytucji ściecodzie (1, 1.0, 0.04149493296936207, 0.6029754555994413, 1.0305815707470343)\n",
      "komisje imistrz (1, 1.0, 0.108319038378182, 0.6544863676900275, 0.5740427347246199)\n",
      "legalizacyjne egoprojektuje (1, 0.15991770077294803, 0.12222832311455638, 1.0209826532432469, 0.9625537435346093, 0.05, 0.03903232008847828, 0.08367900246369997, 0.052195736285156426)\n",
      "krzewami sprawydo (-1, 0.15752054738995666, 0.3140521596335718, 0.89123430419705, 0.29033620739011956, 0.04419156713069036, 0.07614535153964795, 0.03745112931864381, 0.05260793322415798)\n",
      "przepisy kowalczy (1, 1.0, 0.16816091201874278, 0.14111676463329748, 0.9874864552170378)\n",
      "drogi żonej (1, 1.0, 0.13363962607642535, 0.06054650256172086, 0.8803374315060022)\n",
      "częścią powiada (1, 1.0, 0.39521498878391653, 0.19651825128653005, 0.790572150021923)\n",
      "głosu nieni (1, 0.5220430170383203, 0.08456140465154181, 0.40459130405408994, 0.5807894236957563, 0.08540309208349203, 0.04723013504078808, 0.05011633533470076, 0.06966719823582151)\n",
      "celu fini (1, 0.21677489208306852, 0.0818500850805034, 0.3434544470093502, 1.2200742545359486, 0.06129374117978845, 0.04674149796766682, 0.11204012916249391, 0.1887793366732333)\n",
      "soli ście (-1, 0.25562868737293537, 0.7268684033548802, 0.6531637851973146, 0.1204315303618721, 0.04626020258536287, 0.19872101004170806, 0.062321940422030986, 0.09782745985010592)\n",
      "czegoś dujący (1, 1.0, 0.3826718269874565, 0.08894099009970069, 0.9033399422648798)\n",
      "korzyści finansow (1, 1.0, 1.0, 0.16562398182244986, 0.739573285884536, 0.058893477519629506, 0.06683938328911321, 0.04880011252072849, 0.17035176340864766)\n",
      "online arnego (1, 1.0, 0.4582847648326986, 0.07133946614602792, 1.1328108834506794)\n",
      "kynastona oprzyjęci (1, 0.4921655469887646, 0.22125716161170556, 0.8905742168325457, 1.2143456846396798, 0.027657080197606466, 0.07614535153964795, 0.10662682038190503, 0.09246930370435992)\n",
      "zatrzymywać oprzedstawi (1, 0.7105562646127636, 0.07359409798953728, 0.46707522431883075, 0.6941194330940188, 0.04223180469798821, 0.04399199483185316, 0.07431708470276085, 0.16988345216050127)\n",
      "już hod (1, 1.0, 0.0882550181704508, 0.048047283232560085, 0.907792597085061)\n",
      "przed kolic (1, 0.7323499299825228, 0.06696361284945607, 0.187806670668549, 1.3790903736798052, 0.051516338992904594, 0.10097753542550196, 0.10080365430215668, 0.13309578374025707)\n",
      "pochodzi asobliwo (1, 0.36288381969123096, 0.3690722461957159, 0.21283599974696274, 1.0385485075474934, 0.05334751335833318, 0.0903206771184816, 0.05, 0.6723891491397629)\n",
      "bardzo badani (1, 1.0, 0.2846780406951579, 0.06829288613642552, 0.9244574226812239)\n",
      "sposób sowani (1, 1.0, 0.35292110183895686, 0.11885219699389234, 0.8587836696696299)\n",
      "namawiano prowadzen (1, 0.23227930835686733, 0.4558914105302046, 0.9858727122216413, 1.3905742168325457, 0.03101996600878699, 0.02860456052980819, 0.08649098312326395, 0.19257701465757157)\n",
      "tylko prowa (1, 1.0, 0.1467557509379749, 0.06665474541757861, 1.482358780691429)\n",
      "stronnictwa legającejna (1, 0.4859712844183245, 0.28176143668848924, 1.4137021922520372, 0.89123430419705, 0.04903800998127543, 0.05907600930241268, 0.11763674316575487, 0.034919433063293974)\n",
      "płynie żający (1, 1.0, 1.0, 0.16068340229545794, 0.25837945155899067, 0.06995003405067976, 0.04149889244677483, 0.04090776873496412, 0.11601940875286107)\n",
      "projektu ilkadzie (1, 1.0, 0.049257711607286, 0.20703862031713013, 1.487486455217038)\n",
      "był ora (1, 1.0, 0.09909979037691181, 0.07193812754970114, 0.3834272817772711)\n",
      "więcej owania (1, 1.0, 0.30210179769879353, 0.05549290560628578, 0.5788678969983627)\n",
      "samego rojekt (1, 1.0, 0.811393954232063, 0.32560803039547837, 1.4846154870006565)\n",
      "skazał lizowa (1, 0.10609067099060333, 0.6134291204540668, 0.6646454664587217, 1.1785355427765234, 0.06614587305761582, 0.0692803594577787, 0.10094162229009347, 0.15210743146271827)\n",
      "podstawowe rzyjęciete (1, 0.2726472485874409, 0.22539196039517068, 0.7319571494934356, 1.4846154870006565, 0.053949332464074386, 0.15936087023665435, 0.12079796059645022, 0.09017360120944697)\n",
      "dokumentu utworzeni (1, 0.8132710185187232, 0.13609649308589744, 0.14796106051610514, 0.8127095558977728, 0.03885020948320262, 0.055530107044353856, 0.06523264864482456, 0.06466616943059865)\n",
      "jak odz (1, 0.8293332930117056, 0.13530937044315536, 0.1262138305755339, 0.40373310692544057, 0.047359573332543085, 0.14493923256093974, 0.0832843003799143, 0.28436057436117784)\n",
      "oczekiwana projektemo (1, 0.7068979540949201, 0.29782650339372535, 0.4232750154676593, 0.49999781701492296, 0.038826725124000205, 0.042392072807640416, 0.04159222731356753, 0.09539089228979969)\n",
      "spotkać podjęci (1, 1.0, 0.9414145894589738, 0.23659135092504588, 0.8421134731682876)\n",
      "fizycznej uwzbudzon (1, 1.0, 0.8732004365132513, 0.27534922636513376, 1.0206526095609951)\n",
      "warsztaty ostarczon (1, 1.0, 0.5049442300999237, 0.1760244676010298, 1.4858727122216413)\n",
      "giełdę owanie (1, 0.9507344505715877, 0.17670921991420704, 0.6020368368851999, 0.5691444127448707, 0.03228506516466276, 0.03395978804299974, 0.03413924023800806, 0.04962674910035503)\n",
      "imprezie umiejsco (1, 0.13218144339224797, 0.04701691501398988, 1.2514675971061382, 1.3815506904852106, 0.06662350302416643, 0.059677902359341915, 0.04450946975769823, 0.17925792409205688)\n",
      "wówczas ronymin (1, 0.7708379709445505, 0.052582806700102916, 0.5562957899567642, 0.9711854742048449, 0.05249819265408704, 0.0550812606619218, 0.048901147849427826, 0.08999466807289791)\n",
      "skutki olskie (1, 1.0, 0.10377368735001898, 0.1495460493746111, 1.4581417877101046)\n",
      "przeciwpożarowej potraktowaniepro (1, 0.44266704311449806, 0.3322989136565743, 0.9543008865388303, 1.023973049030925, 0.023738028086515022, 0.06460529088968131, 0.040332301185101116, 0.470617152098525)\n",
      "ograniczonego skiegostronni (1, 1.0, 0.417051843404281, 0.3525508902157878, 1.508746327847239)\n",
      "kontekstu rzyściach (-1, 0.13863035308096402, 0.33682764583063546, 0.5242557988719986, 0.89123430419705, 0.10612154637249605, 0.03721243646751649, 0.04153136102973185, 0.05319617628916937)\n",
      "tym ini (1, 1.0, 0.26961740000895856, 0.10266627469231596, 0.23062219653214744)\n",
      "pana anie (-1, 0.3239010722921507, 0.3880106984377544, 0.3901551918499967, 0.10057306519467558, 0.0788166041763322, 0.038373387524946456, 0.06243835351375899, 0.05731314368238406)\n",
      "dlaczego świadcze (1, 0.23053977074286505, 0.9967155599157985, 0.6044829537204884, 0.9246594233808613, 0.05020099020042764, 0.05046221611147578, 0.07149729755416728, 0.1913196400069819)\n",
      "dzisiejszego ustawyzmieni (1, 1.0, 0.1904289861720831, 0.221568569778224, 0.8753645567304733)\n",
      "zawodowej zachowani (-1, 0.41669712484742727, 0.68781495717279, 0.8557469901927205, 0.8318272028282414, 0.051196753890433766, 0.07050266143571692, 0.06817094977939331, 0.08256305489661056)\n",
      "keygen miniej (1, 0.0968520017747478, 0.2044261808476112, 1.0209826532432469, 0.30154544014805007, 0.05297015731837275, 0.05, 0.04889429953762983, 0.31067006652021495)\n",
      "ten nan (1, 1.0, 0.26118262103121387, 0.06535875163159144, 0.1459810637441554)\n",
      "absolwent sięstanie (1, 1.0, 0.35485414286269623, 0.13348090406215804, 0.5077181198654636)\n",
      "męża odzi (1, 1.0, 0.3662896153864047, 0.09451483175520238, 0.14853972984827285)\n",
      "jest oprz (1, 1.0, 0.05195680138489776, 0.04444737836324626, 0.9831839569402663)\n",
      "wnuczek podatko (1, 0.24102161138593922, 0.47722810771442914, 0.9543008865388303, 1.442585502581625, 0.05, 0.05741228338840482, 0.0759739230841035, 0.3599384072676476)\n",
      "podziwu wansowa (1, 0.512479505220226, 0.5848190753623695, 1.0308368986580811, 1.3753645567304733, 0.05, 0.0730435061296051, 0.09715475466510819, 0.15509886968998773)\n",
      "warszawski rzypisujes (1, 0.7705453200077979, 0.21490105888185754, 0.9011083999944067, 0.9846154870006564, 0.041030352783109764, 0.13555310299801887, 0.10983165249267784, 0.5911910930491914)\n",
      "nie eni (1, 1.0, 0.0686640249548079, 0.03831232021383624, 0.7152561986687576)\n",
      "podatnika tyfikacji (1, 1.0, 1.0, 0.16983777482446488, 0.1816301145022599, 0.060288632798102926, 0.050869334708633814, 0.12480097435133632, 0.054395519954889185)\n",
      "przez łania (1, 1.0, 0.16644448184232252, 0.042477337129327275, 1.0506628419138058)\n",
      "ile por (1, 1.0, 0.4865265288959014, 0.04964150224454056, 0.14328731848861762)\n",
      "głosów niejsz (1, 1.0, 0.14449823786987587, 0.2095996388283792, 0.7530648882296145)\n",
      "głosu odzia (1, 0.5220430170383203, 0.046287916710172454, 0.40459130405408994, 1.2004440520661483, 0.07680847323035808, 0.03902878929014604, 0.06574287058035506, 0.1423541341875235)\n",
      "się ost (1, 1.0, 0.18803856685447226, 0.061183064092560566, 0.27757995159339843)\n",
      "zwiększenie przyparafia (1, 1.0, 0.10674093294774825, 0.06930603002986842, 1.0305815707470343)\n",
      "nim imi (1, 0.1764082939866685, 0.46394272305285694, 0.569789592792221, 0.13402464124061392, 0.06335413326426788, 0.10130950762265675, 0.07284372765225786, 0.36559157324910585)\n",
      "poselskiego dostosowani (1, 0.8438050421397298, 0.230088620625728, 0.7988917287320192, 0.8604134143476849, 0.03654345765217123, 0.04345590978258766, 0.04852621861714864, 0.08770934960591381)\n",
      "równoległym przysługiwa (-1, 0.4893583468163529, 0.974225546626889, 0.438546154294857, 0.8257123496754729, 0.06673809479737193, 0.07362470152779833, 0.05392348120219174, 0.0835344311088602)\n",
      "swojjej podobra (1, 0.9785356356783161, 0.04734073525101788, 0.9752336570525748, 0.9858727122216413, 0.06259155937576484, 0.05, 0.0500806489728956, 0.054011522149805626)\n",
      "mds dow (1, 1.0, 0.43311159625240914, 0.5790289306100228, 0.12017501512752446)\n",
      "pasterskiego astronapolsk (-1, 0.2779230874379142, 0.2158496933258371, 0.9426511093624395, 0.8905742168325457, 0.03654120746244753, 0.0636450209119493, 0.05297015731837275, 0.03799756324891666)\n",
      "niemiec prawoto (1, 1.0, 0.12661875283705598, 0.5950090271415608, 1.0209826532432469)\n",
      "sytuacja przezrok (1, 1.0, 0.12432923555804966, 0.16496264760831017, 0.5407343850901093)\n",
      "skrawalności niemieckimin (1, 0.6457861413517626, 0.13325380858555283, 0.9974989568716687, 0.9426511093624395, 0.03545216994402445, 0.035058045442045264, 0.055723805958837656, 0.12826988347123006)\n",
      "biedy tości (-1, 0.1582792731289586, 0.21030597058237235, 0.5001308738410715, 0.9216983648677778, 0.05754076522879445, 0.1954017470276351, 0.051295035658050187, 0.06203748709202576)\n",
      "trzech rowani (1, 0.37858286745461284, 0.3372784440255637, 0.5543219155002432, 0.805536355374439, 0.06957921441296219, 0.05480136920813813, 0.043362912887854856, 0.06073397204946154)\n",
      "próbę towan (1, 1.0, 0.235674460353478, 0.09343912542338863, 0.6972557406855572)\n",
      "wykorzystanie abiletylotnic (1, 0.6789542823481887, 0.48763142374135404, 0.6712082701175026, 0.9426511093624395, 0.057783024602078105, 0.047616611764010316, 0.3699320474910124, 0.7603422390922698)\n",
      "bez eni (1, 0.7078250481197593, 0.0686640249548079, 0.25858715280462663, 0.7152561986687576, 0.052375447447193274, 0.05305101764682804, 0.039903960920047006, 0.08428310802504252)\n",
      "rządem owyższ (1, 0.8053085134410443, 0.16534863015374823, 0.14221599829827447, 1.3819606396898763, 0.06155787906293689, 0.07281719459372259, 0.20025495650607728, 0.2436702784963599)\n",
      "również towanie (1, 1.0, 0.25535619759958234, 0.04833511908532324, 0.6435143221865631)\n",
      "się cał (1, 1.0, 0.6617713875010401, 0.061183064092560566, 0.13954831448547483)\n",
      "niedostateczny kolejnycheleme (1, 0.22548948354672999, 0.06835350660543882, 0.9846154870006564, 0.9314813957238696, 0.08753787418771876, 0.034094282920613346, 0.02860456052980819, 0.4450972827938904)\n",
      "ustawy nienia (1, 0.5536164574023633, 0.4701957428495023, 0.6108178653510432, 0.6324910017890568, 0.0617010306575617, 0.05200245843230158, 0.03519531500295572, 0.07070855683563747)\n",
      "komunalnych okratycznej (1, 1.0, 0.5722200311259026, 0.429292816298597, 1.4974989568716688)\n",
      "pożądanych obecnietre (1, 0.36125848354843454, 0.14906615739102, 0.9752336570525748, 1.0209826532432469, 0.10057306519467558, 0.04494573673936586, 0.05, 0.17613216722537323)\n",
      "również rzestaw (1, 1.0, 0.059031285199233785, 0.04833511908532324, 0.9846154870006564)\n",
      "druga odzio (1, 0.5921041534451084, 0.07147572753234802, 0.3525994436600941, 1.1956596318619779, 0.0495860342889463, 0.055848358637358514, 0.15478308250637732, 0.11112126368292242)\n",
      "zaś orz (1, 0.3317806810284665, 0.279717554317502, 0.5862226895472904, 0.2275567570567817, 0.06676341430432994, 0.15615473165116234, 0.1062922143576875, 0.3711963427300394)\n",
      "cechuje udności (1, 1.0, 0.4459039801368604, 0.16516135082322822, 0.9812696047023408)\n",
      "czynnika lamentar (1, 1.0, 0.4020856141136391, 0.12268823749260702, 1.4572653965475082)\n",
      "ktoś anie (-1, 0.21523191017344306, 0.3880106984377544, 0.5762343784790144, 0.10057306519467558, 0.07438650111969757, 0.05794771308318586, 0.06632366883045882, 0.06722001157598365)\n",
      "seth tawi (1, 0.4173740619066916, 0.08150924377539821, 0.22227979971431364, 0.9302002696745629, 0.05765374604377795, 0.10351281394084107, 0.06059754980183617, 0.16290509214907023)\n",
      "królewskiej równieżnast (1, 0.5988662878250431, 0.1537152143948373, 0.38316706000296546, 0.33956128865087465, 0.04638505387688262, 0.04390010036316444, 0.0974105065708908, 0.7578964608804277)\n",
      "sama geni (1, 0.8892155720925019, 0.24130622990856726, 0.1043322067204172, 0.7546658676182589, 0.05342972022162051, 0.08220859952671561, 0.09658418272191373, 0.08738788043778077)\n",
      "nigdy edzia (1, 0.17865322829058125, 0.056333105129935654, 1.0024451321260204, 0.9863836578703302, 0.0588783724915736, 0.035886254324776774, 0.06206855836821086, 0.19630967130316904)\n",
      "dziwnych ropejski (1, 0.543001698791096, 0.6064432829152555, 0.570064410796126, 1.5012553363924872, 0.03706539650059207, 0.04030852378376092, 0.10955260400659622, 0.15315773271419772)\n",
      "przy odpo (1, 1.0, 0.023325930997807928, 0.08619958471719133, 1.0857354569943651)\n",
      "premium rzeniar (1, 1.0, 0.12213116126493168, 0.24506028443299605, 0.5313251876854419)\n",
      "one tow (1, 0.38581402927131964, 0.3167447150751584, 0.13240341122909152, 0.1643253704144333, 0.03833218946882166, 0.13946974568200882, 0.05633585520641215, 0.22877208252262715)\n",
      "norm łasz (1, 1.0, 0.0737559273867223, 0.25172294141864293, 0.8286498792912637)\n",
      "otwartego przywiesz (1, 1.0, 0.10604254903026893, 0.1269407555411003, 1.0206526095609951)\n",
      "nie ost (1, 1.0, 0.18803856685447226, 0.03831232021383624, 0.27757995159339843)\n",
      "osoby lowan (1, 1.0, 0.22147835323687687, 0.055249734420807266, 0.7162826034026847)\n",
      "sile enie (1, 0.37098612912388407, 0.058553100467909416, 0.25007356233415623, 0.6756496429589556, 0.05945452058404798, 0.11072600958947776, 0.04095965677465835, 0.06154183667166612)\n",
      "kontakt odzenie (1, 1.0, 0.634722743658236, 0.1303875757871991, 0.7269494335233533)\n",
      "względem ględnion (1, 0.8463936200251626, 0.4783854054729281, 0.8827708277655235, 1.4426511093624395, 0.0745078496680242, 0.05168658653109347, 0.10098042489295188, 0.09026170321041388)\n",
      "materiałem dziejekolo (1, 1.0, 0.03212696129424209, 0.4565089892452344, 1.022688173091462)\n",
      "organizacji poczynający (1, 1.0, 0.3656558061829444, 0.546225344233134, 0.9426511093624395)\n",
      "generalnej koszpozwal (1, 0.8720102250405972, 0.4596861475064802, 0.6054147540060387, 0.9752336570525748, 0.026038938799587266, 0.06160492451584925, 0.018770144750666764, 0.05996522338472094)\n"
     ]
    },
    {
     "data": {
      "text/plain": "0.936"
     },
     "execution_count": 145,
     "metadata": {},
     "output_type": "execute_result"
    }
   ],
   "source": [
    "resolve_tests(tests[k:k*2], debug=True)"
   ],
   "metadata": {
    "collapsed": false,
    "pycharm": {
     "name": "#%%\n"
    }
   }
  },
  {
   "cell_type": "code",
   "execution_count": 46,
   "outputs": [
    {
     "data": {
      "text/plain": "0.9063"
     },
     "execution_count": 46,
     "metadata": {},
     "output_type": "execute_result"
    }
   ],
   "source": [
    "resolve_tests(tests[k*80:k*120], debug=False)"
   ],
   "metadata": {
    "collapsed": false,
    "pycharm": {
     "name": "#%%\n"
    }
   }
  },
  {
   "cell_type": "code",
   "execution_count": 124,
   "outputs": [
    {
     "name": "stdout",
     "output_type": "stream",
     "text": [
      "|   iter    |  target   |     a     |     b     |     c     |     d     |     e     |     f     |     g     |     h     |\n",
      "-------------------------------------------------------------------------------------------------------------------------\n",
      "| \u001B[0m 1       \u001B[0m | \u001B[0m 0.794   \u001B[0m | \u001B[0m 0.5627  \u001B[0m | \u001B[0m 3.993   \u001B[0m | \u001B[0m 4.77    \u001B[0m | \u001B[0m 0.1602  \u001B[0m | \u001B[0m 0.2472  \u001B[0m | \u001B[0m 0.2217  \u001B[0m | \u001B[0m 0.6642  \u001B[0m | \u001B[0m 0.7645  \u001B[0m |\n",
      "| \u001B[95m 2       \u001B[0m | \u001B[95m 0.836   \u001B[0m | \u001B[95m 0.6609  \u001B[0m | \u001B[95m 5.456   \u001B[0m | \u001B[95m 3.796   \u001B[0m | \u001B[95m 0.02677 \u001B[0m | \u001B[95m 0.5307  \u001B[0m | \u001B[95m 0.6108  \u001B[0m | \u001B[95m 0.8367  \u001B[0m | \u001B[95m 0.3514  \u001B[0m |\n",
      "| \u001B[0m 3       \u001B[0m | \u001B[0m 0.832   \u001B[0m | \u001B[0m 0.8227  \u001B[0m | \u001B[0m 3.4     \u001B[0m | \u001B[0m 9.352   \u001B[0m | \u001B[0m 0.507   \u001B[0m | \u001B[0m 0.3222  \u001B[0m | \u001B[0m 0.3881  \u001B[0m | \u001B[0m 0.5918  \u001B[0m | \u001B[0m 0.3769  \u001B[0m |\n",
      "| \u001B[0m 4       \u001B[0m | \u001B[0m 0.836   \u001B[0m | \u001B[0m 0.5328  \u001B[0m | \u001B[0m 2.369   \u001B[0m | \u001B[0m 3.653   \u001B[0m | \u001B[0m 0.1272  \u001B[0m | \u001B[0m 0.3558  \u001B[0m | \u001B[0m 0.28    \u001B[0m | \u001B[0m 0.4259  \u001B[0m | \u001B[0m 0.4773  \u001B[0m |\n",
      "| \u001B[0m 5       \u001B[0m | \u001B[0m 0.836   \u001B[0m | \u001B[0m 0.4749  \u001B[0m | \u001B[0m 2.322   \u001B[0m | \u001B[0m 2.844   \u001B[0m | \u001B[0m 0.7898  \u001B[0m | \u001B[0m 0.8016  \u001B[0m | \u001B[0m 0.2356  \u001B[0m | \u001B[0m 0.2618  \u001B[0m | \u001B[0m 0.5186  \u001B[0m |\n",
      "| \u001B[0m 6       \u001B[0m | \u001B[0m 0.824   \u001B[0m | \u001B[0m 0.2709  \u001B[0m | \u001B[0m 0.1913  \u001B[0m | \u001B[0m 7.221   \u001B[0m | \u001B[0m 0.1557  \u001B[0m | \u001B[0m 0.3331  \u001B[0m | \u001B[0m 0.3282  \u001B[0m | \u001B[0m 0.4273  \u001B[0m | \u001B[0m 0.4348  \u001B[0m |\n",
      "| \u001B[0m 7       \u001B[0m | \u001B[0m 0.828   \u001B[0m | \u001B[0m 0.6076  \u001B[0m | \u001B[0m 6.516   \u001B[0m | \u001B[0m 6.382   \u001B[0m | \u001B[0m 0.1789  \u001B[0m | \u001B[0m 0.9017  \u001B[0m | \u001B[0m 0.6832  \u001B[0m | \u001B[0m 0.6443  \u001B[0m | \u001B[0m 0.7937  \u001B[0m |\n",
      "| \u001B[0m 8       \u001B[0m | \u001B[0m 0.834   \u001B[0m | \u001B[0m 0.1314  \u001B[0m | \u001B[0m 0.3971  \u001B[0m | \u001B[0m 6.532   \u001B[0m | \u001B[0m 0.1707  \u001B[0m | \u001B[0m 0.3254  \u001B[0m | \u001B[0m 0.9363  \u001B[0m | \u001B[0m 0.2985  \u001B[0m | \u001B[0m 0.5631  \u001B[0m |\n",
      "| \u001B[0m 9       \u001B[0m | \u001B[0m 0.816   \u001B[0m | \u001B[0m 0.1648  \u001B[0m | \u001B[0m 9.12    \u001B[0m | \u001B[0m 3.993   \u001B[0m | \u001B[0m 0.3337  \u001B[0m | \u001B[0m 0.9303  \u001B[0m | \u001B[0m 0.9256  \u001B[0m | \u001B[0m 0.5131  \u001B[0m | \u001B[0m 0.5641  \u001B[0m |\n",
      "| \u001B[0m 10      \u001B[0m | \u001B[0m 0.836   \u001B[0m | \u001B[0m 0.7622  \u001B[0m | \u001B[0m 1.506   \u001B[0m | \u001B[0m 0.509   \u001B[0m | \u001B[0m 0.996   \u001B[0m | \u001B[0m 0.305   \u001B[0m | \u001B[0m 0.7045  \u001B[0m | \u001B[0m 0.4614  \u001B[0m | \u001B[0m 0.4952  \u001B[0m |\n",
      "| \u001B[0m 11      \u001B[0m | \u001B[0m 0.73    \u001B[0m | \u001B[0m 0.352   \u001B[0m | \u001B[0m 2.024   \u001B[0m | \u001B[0m 4.097   \u001B[0m | \u001B[0m 0.8583  \u001B[0m | \u001B[0m 0.5902  \u001B[0m | \u001B[0m 0.05916 \u001B[0m | \u001B[0m 0.166   \u001B[0m | \u001B[0m 0.7572  \u001B[0m |\n",
      "| \u001B[0m 12      \u001B[0m | \u001B[0m 0.748   \u001B[0m | \u001B[0m 0.626   \u001B[0m | \u001B[0m 7.151   \u001B[0m | \u001B[0m 0.2515  \u001B[0m | \u001B[0m 0.01413 \u001B[0m | \u001B[0m 0.9067  \u001B[0m | \u001B[0m 0.5175  \u001B[0m | \u001B[0m 0.5513  \u001B[0m | \u001B[0m 0.3601  \u001B[0m |\n",
      "| \u001B[0m 13      \u001B[0m | \u001B[0m 0.826   \u001B[0m | \u001B[0m 0.1016  \u001B[0m | \u001B[0m 4.186   \u001B[0m | \u001B[0m 5.363   \u001B[0m | \u001B[0m 0.7974  \u001B[0m | \u001B[0m 0.9797  \u001B[0m | \u001B[0m 0.5366  \u001B[0m | \u001B[0m 0.6785  \u001B[0m | \u001B[0m 0.4135  \u001B[0m |\n",
      "| \u001B[0m 14      \u001B[0m | \u001B[0m 0.83    \u001B[0m | \u001B[0m 0.386   \u001B[0m | \u001B[0m 8.688   \u001B[0m | \u001B[0m 6.087   \u001B[0m | \u001B[0m 0.6822  \u001B[0m | \u001B[0m 0.7422  \u001B[0m | \u001B[0m 0.4947  \u001B[0m | \u001B[0m 0.3348  \u001B[0m | \u001B[0m 0.4326  \u001B[0m |\n",
      "| \u001B[0m 15      \u001B[0m | \u001B[0m 0.722   \u001B[0m | \u001B[0m 0.3725  \u001B[0m | \u001B[0m 1.953   \u001B[0m | \u001B[0m 8.249   \u001B[0m | \u001B[0m 0.1821  \u001B[0m | \u001B[0m 0.1089  \u001B[0m | \u001B[0m 0.04313 \u001B[0m | \u001B[0m 0.2965  \u001B[0m | \u001B[0m 0.4486  \u001B[0m |\n",
      "| \u001B[0m 16      \u001B[0m | \u001B[0m 0.74    \u001B[0m | \u001B[0m 0.6295  \u001B[0m | \u001B[0m 8.527   \u001B[0m | \u001B[0m 3.544   \u001B[0m | \u001B[0m 0.193   \u001B[0m | \u001B[0m 0.7331  \u001B[0m | \u001B[0m 0.02166 \u001B[0m | \u001B[0m 0.4197  \u001B[0m | \u001B[0m 0.6005  \u001B[0m |\n",
      "| \u001B[95m 17      \u001B[0m | \u001B[95m 0.856   \u001B[0m | \u001B[95m 0.4073  \u001B[0m | \u001B[95m 9.411   \u001B[0m | \u001B[95m 3.422   \u001B[0m | \u001B[95m 0.2466  \u001B[0m | \u001B[95m 0.07396 \u001B[0m | \u001B[95m 0.997   \u001B[0m | \u001B[95m 0.2114  \u001B[0m | \u001B[95m 0.8619  \u001B[0m |\n",
      "| \u001B[0m 18      \u001B[0m | \u001B[0m 0.836   \u001B[0m | \u001B[0m 0.4054  \u001B[0m | \u001B[0m 7.487   \u001B[0m | \u001B[0m 2.775   \u001B[0m | \u001B[0m 0.5691  \u001B[0m | \u001B[0m 0.7954  \u001B[0m | \u001B[0m 0.7048  \u001B[0m | \u001B[0m 0.7932  \u001B[0m | \u001B[0m 0.3205  \u001B[0m |\n",
      "| \u001B[0m 19      \u001B[0m | \u001B[0m 0.856   \u001B[0m | \u001B[0m 0.1842  \u001B[0m | \u001B[0m 3.201   \u001B[0m | \u001B[0m 7.008   \u001B[0m | \u001B[0m 0.2437  \u001B[0m | \u001B[0m 0.9351  \u001B[0m | \u001B[0m 0.9001  \u001B[0m | \u001B[0m 0.1553  \u001B[0m | \u001B[0m 0.2275  \u001B[0m |\n",
      "| \u001B[0m 20      \u001B[0m | \u001B[0m 0.836   \u001B[0m | \u001B[0m 0.4993  \u001B[0m | \u001B[0m 4.71    \u001B[0m | \u001B[0m 7.893   \u001B[0m | \u001B[0m 0.703   \u001B[0m | \u001B[0m 0.5417  \u001B[0m | \u001B[0m 0.4562  \u001B[0m | \u001B[0m 0.842   \u001B[0m | \u001B[0m 0.7382  \u001B[0m |\n",
      "| \u001B[95m 21      \u001B[0m | \u001B[95m 0.858   \u001B[0m | \u001B[95m 0.4013  \u001B[0m | \u001B[95m 5.215   \u001B[0m | \u001B[95m 7.323   \u001B[0m | \u001B[95m 0.6953  \u001B[0m | \u001B[95m 0.2965  \u001B[0m | \u001B[95m 0.821   \u001B[0m | \u001B[95m 0.424   \u001B[0m | \u001B[95m 0.5886  \u001B[0m |\n",
      "| \u001B[0m 22      \u001B[0m | \u001B[0m 0.824   \u001B[0m | \u001B[0m 0.4415  \u001B[0m | \u001B[0m 7.385   \u001B[0m | \u001B[0m 3.183   \u001B[0m | \u001B[0m 0.1475  \u001B[0m | \u001B[0m 0.4027  \u001B[0m | \u001B[0m 0.4116  \u001B[0m | \u001B[0m 0.5724  \u001B[0m | \u001B[0m 0.5388  \u001B[0m |\n",
      "| \u001B[0m 23      \u001B[0m | \u001B[0m 0.826   \u001B[0m | \u001B[0m 0.8213  \u001B[0m | \u001B[0m 5.596   \u001B[0m | \u001B[0m 7.857   \u001B[0m | \u001B[0m 0.5509  \u001B[0m | \u001B[0m 0.7449  \u001B[0m | \u001B[0m 0.5574  \u001B[0m | \u001B[0m 0.01923 \u001B[0m | \u001B[0m 0.4313  \u001B[0m |\n",
      "| \u001B[0m 24      \u001B[0m | \u001B[0m 0.838   \u001B[0m | \u001B[0m 0.6648  \u001B[0m | \u001B[0m 5.353   \u001B[0m | \u001B[0m 3.43    \u001B[0m | \u001B[0m 0.3443  \u001B[0m | \u001B[0m 0.4724  \u001B[0m | \u001B[0m 0.9818  \u001B[0m | \u001B[0m 0.1343  \u001B[0m | \u001B[0m 0.7955  \u001B[0m |\n",
      "| \u001B[0m 25      \u001B[0m | \u001B[0m 0.854   \u001B[0m | \u001B[0m 0.4565  \u001B[0m | \u001B[0m 0.6099  \u001B[0m | \u001B[0m 4.073   \u001B[0m | \u001B[0m 0.7029  \u001B[0m | \u001B[0m 0.1424  \u001B[0m | \u001B[0m 0.8724  \u001B[0m | \u001B[0m 0.4377  \u001B[0m | \u001B[0m 0.6515  \u001B[0m |\n",
      "| \u001B[0m 26      \u001B[0m | \u001B[0m 0.84    \u001B[0m | \u001B[0m 0.4718  \u001B[0m | \u001B[0m 5.052   \u001B[0m | \u001B[0m 7.583   \u001B[0m | \u001B[0m 0.6868  \u001B[0m | \u001B[0m 0.4257  \u001B[0m | \u001B[0m 0.6607  \u001B[0m | \u001B[0m 0.552   \u001B[0m | \u001B[0m 0.6334  \u001B[0m |\n",
      "| \u001B[0m 27      \u001B[0m | \u001B[0m 0.846   \u001B[0m | \u001B[0m 0.7635  \u001B[0m | \u001B[0m 9.01    \u001B[0m | \u001B[0m 3.107   \u001B[0m | \u001B[0m 0.05764 \u001B[0m | \u001B[0m 0.4334  \u001B[0m | \u001B[0m 0.7041  \u001B[0m | \u001B[0m 0.654   \u001B[0m | \u001B[0m 0.342   \u001B[0m |\n",
      "| \u001B[0m 28      \u001B[0m | \u001B[0m 0.858   \u001B[0m | \u001B[0m 0.6307  \u001B[0m | \u001B[0m 9.426   \u001B[0m | \u001B[0m 3.082   \u001B[0m | \u001B[0m 0.1059  \u001B[0m | \u001B[0m 0.08325 \u001B[0m | \u001B[0m 1.0     \u001B[0m | \u001B[0m 0.4924  \u001B[0m | \u001B[0m 0.5366  \u001B[0m |\n",
      "| \u001B[0m 29      \u001B[0m | \u001B[0m 0.828   \u001B[0m | \u001B[0m 0.9931  \u001B[0m | \u001B[0m 9.207   \u001B[0m | \u001B[0m 9.345   \u001B[0m | \u001B[0m 0.1431  \u001B[0m | \u001B[0m 0.2967  \u001B[0m | \u001B[0m 0.2309  \u001B[0m | \u001B[0m 0.4131  \u001B[0m | \u001B[0m 0.1478  \u001B[0m |\n",
      "| \u001B[0m 30      \u001B[0m | \u001B[0m 0.854   \u001B[0m | \u001B[0m 0.2275  \u001B[0m | \u001B[0m 4.698   \u001B[0m | \u001B[0m 6.909   \u001B[0m | \u001B[0m 0.5689  \u001B[0m | \u001B[0m 0.3777  \u001B[0m | \u001B[0m 1.0     \u001B[0m | \u001B[0m 0.2418  \u001B[0m | \u001B[0m 0.4308  \u001B[0m |\n",
      "| \u001B[0m 31      \u001B[0m | \u001B[0m 0.834   \u001B[0m | \u001B[0m 0.2243  \u001B[0m | \u001B[0m 3.965   \u001B[0m | \u001B[0m 7.147   \u001B[0m | \u001B[0m 0.492   \u001B[0m | \u001B[0m 1.0     \u001B[0m | \u001B[0m 0.99    \u001B[0m | \u001B[0m 0.4891  \u001B[0m | \u001B[0m 0.375   \u001B[0m |\n",
      "| \u001B[0m 32      \u001B[0m | \u001B[0m 0.846   \u001B[0m | \u001B[0m 0.8411  \u001B[0m | \u001B[0m 7.258   \u001B[0m | \u001B[0m 9.93    \u001B[0m | \u001B[0m 0.3229  \u001B[0m | \u001B[0m 0.768   \u001B[0m | \u001B[0m 0.6326  \u001B[0m | \u001B[0m 0.794   \u001B[0m | \u001B[0m 0.1096  \u001B[0m |\n",
      "| \u001B[0m 33      \u001B[0m | \u001B[0m 0.854   \u001B[0m | \u001B[0m 0.8417  \u001B[0m | \u001B[0m 9.328   \u001B[0m | \u001B[0m 3.17    \u001B[0m | \u001B[0m 0.05771 \u001B[0m | \u001B[0m 0.1169  \u001B[0m | \u001B[0m 0.8212  \u001B[0m | \u001B[0m 0.5731  \u001B[0m | \u001B[0m 0.3346  \u001B[0m |\n",
      "| \u001B[95m 34      \u001B[0m | \u001B[95m 0.86    \u001B[0m | \u001B[95m 0.0     \u001B[0m | \u001B[95m 5.475   \u001B[0m | \u001B[95m 6.659   \u001B[0m | \u001B[95m 1.0     \u001B[0m | \u001B[95m 0.0     \u001B[0m | \u001B[95m 1.0     \u001B[0m | \u001B[95m 0.3889  \u001B[0m | \u001B[95m 0.4968  \u001B[0m |\n",
      "| \u001B[0m 35      \u001B[0m | \u001B[0m 0.842   \u001B[0m | \u001B[0m 0.7218  \u001B[0m | \u001B[0m 5.205   \u001B[0m | \u001B[0m 6.717   \u001B[0m | \u001B[0m 0.976   \u001B[0m | \u001B[0m 0.0     \u001B[0m | \u001B[0m 1.0     \u001B[0m | \u001B[0m 0.0     \u001B[0m | \u001B[0m 1.0     \u001B[0m |\n",
      "| \u001B[0m 36      \u001B[0m | \u001B[0m 0.842   \u001B[0m | \u001B[0m 0.0     \u001B[0m | \u001B[0m 5.529   \u001B[0m | \u001B[0m 6.943   \u001B[0m | \u001B[0m 0.02469 \u001B[0m | \u001B[0m 0.0     \u001B[0m | \u001B[0m 1.0     \u001B[0m | \u001B[0m 0.3093  \u001B[0m | \u001B[0m 0.3935  \u001B[0m |\n",
      "| \u001B[95m 37      \u001B[0m | \u001B[95m 0.866   \u001B[0m | \u001B[95m 0.6359  \u001B[0m | \u001B[95m 5.204   \u001B[0m | \u001B[95m 6.826   \u001B[0m | \u001B[95m 0.9566  \u001B[0m | \u001B[95m 0.0     \u001B[0m | \u001B[95m 1.0     \u001B[0m | \u001B[95m 0.8753  \u001B[0m | \u001B[95m 0.0     \u001B[0m |\n",
      "| \u001B[0m 38      \u001B[0m | \u001B[0m 0.862   \u001B[0m | \u001B[0m 0.0     \u001B[0m | \u001B[0m 5.658   \u001B[0m | \u001B[0m 7.42    \u001B[0m | \u001B[0m 1.0     \u001B[0m | \u001B[0m 0.0     \u001B[0m | \u001B[0m 1.0     \u001B[0m | \u001B[0m 1.0     \u001B[0m | \u001B[0m 0.0     \u001B[0m |\n",
      "| \u001B[0m 39      \u001B[0m | \u001B[0m 0.824   \u001B[0m | \u001B[0m 0.0     \u001B[0m | \u001B[0m 5.169   \u001B[0m | \u001B[0m 6.873   \u001B[0m | \u001B[0m 1.0     \u001B[0m | \u001B[0m 0.0     \u001B[0m | \u001B[0m 0.1543  \u001B[0m | \u001B[0m 0.7503  \u001B[0m | \u001B[0m 0.0     \u001B[0m |\n",
      "| \u001B[0m 40      \u001B[0m | \u001B[0m 0.842   \u001B[0m | \u001B[0m 0.7265  \u001B[0m | \u001B[0m 5.996   \u001B[0m | \u001B[0m 7.08    \u001B[0m | \u001B[0m 1.0     \u001B[0m | \u001B[0m 0.0     \u001B[0m | \u001B[0m 1.0     \u001B[0m | \u001B[0m 1.0     \u001B[0m | \u001B[0m 0.5556  \u001B[0m |\n",
      "| \u001B[0m 41      \u001B[0m | \u001B[0m 0.85    \u001B[0m | \u001B[0m 0.2472  \u001B[0m | \u001B[0m 5.531   \u001B[0m | \u001B[0m 6.851   \u001B[0m | \u001B[0m 1.0     \u001B[0m | \u001B[0m 0.8419  \u001B[0m | \u001B[0m 1.0     \u001B[0m | \u001B[0m 0.6159  \u001B[0m | \u001B[0m 0.0     \u001B[0m |\n",
      "| \u001B[0m 42      \u001B[0m | \u001B[0m 0.848   \u001B[0m | \u001B[0m 0.7673  \u001B[0m | \u001B[0m 2.399   \u001B[0m | \u001B[0m 2.66    \u001B[0m | \u001B[0m 0.0     \u001B[0m | \u001B[0m 0.126   \u001B[0m | \u001B[0m 0.7208  \u001B[0m | \u001B[0m 0.735   \u001B[0m | \u001B[0m 0.08631 \u001B[0m |\n",
      "| \u001B[0m 43      \u001B[0m | \u001B[0m 0.862   \u001B[0m | \u001B[0m 0.706   \u001B[0m | \u001B[0m 0.7396  \u001B[0m | \u001B[0m 3.24    \u001B[0m | \u001B[0m 0.0     \u001B[0m | \u001B[0m 0.0     \u001B[0m | \u001B[0m 1.0     \u001B[0m | \u001B[0m 0.7986  \u001B[0m | \u001B[0m 0.2596  \u001B[0m |\n",
      "| \u001B[0m 44      \u001B[0m | \u001B[0m 0.86    \u001B[0m | \u001B[0m 0.7005  \u001B[0m | \u001B[0m 0.0     \u001B[0m | \u001B[0m 4.149   \u001B[0m | \u001B[0m 0.0     \u001B[0m | \u001B[0m 0.0     \u001B[0m | \u001B[0m 1.0     \u001B[0m | \u001B[0m 1.0     \u001B[0m | \u001B[0m 0.2492  \u001B[0m |\n",
      "| \u001B[0m 45      \u001B[0m | \u001B[0m 0.828   \u001B[0m | \u001B[0m 0.9129  \u001B[0m | \u001B[0m 0.0     \u001B[0m | \u001B[0m 3.311   \u001B[0m | \u001B[0m 0.6451  \u001B[0m | \u001B[0m 0.0     \u001B[0m | \u001B[0m 1.0     \u001B[0m | \u001B[0m 1.0     \u001B[0m | \u001B[0m 0.9148  \u001B[0m |\n",
      "| \u001B[0m 46      \u001B[0m | \u001B[0m 0.858   \u001B[0m | \u001B[0m 0.0     \u001B[0m | \u001B[0m 0.2346  \u001B[0m | \u001B[0m 3.748   \u001B[0m | \u001B[0m 0.0     \u001B[0m | \u001B[0m 0.0     \u001B[0m | \u001B[0m 1.0     \u001B[0m | \u001B[0m 0.2032  \u001B[0m | \u001B[0m 0.0     \u001B[0m |\n",
      "| \u001B[0m 47      \u001B[0m | \u001B[0m 0.852   \u001B[0m | \u001B[0m 0.1428  \u001B[0m | \u001B[0m 1.006   \u001B[0m | \u001B[0m 4.119   \u001B[0m | \u001B[0m 0.0     \u001B[0m | \u001B[0m 0.0     \u001B[0m | \u001B[0m 1.0     \u001B[0m | \u001B[0m 1.0     \u001B[0m | \u001B[0m 0.0     \u001B[0m |\n",
      "| \u001B[0m 48      \u001B[0m | \u001B[0m 0.862   \u001B[0m | \u001B[0m 1.0     \u001B[0m | \u001B[0m 0.5617  \u001B[0m | \u001B[0m 4.098   \u001B[0m | \u001B[0m 0.0     \u001B[0m | \u001B[0m 0.0     \u001B[0m | \u001B[0m 1.0     \u001B[0m | \u001B[0m 0.04042 \u001B[0m | \u001B[0m 0.0     \u001B[0m |\n",
      "| \u001B[0m 49      \u001B[0m | \u001B[0m 0.856   \u001B[0m | \u001B[0m 0.7498  \u001B[0m | \u001B[0m 0.3278  \u001B[0m | \u001B[0m 3.752   \u001B[0m | \u001B[0m 0.0     \u001B[0m | \u001B[0m 1.0     \u001B[0m | \u001B[0m 1.0     \u001B[0m | \u001B[0m 0.5467  \u001B[0m | \u001B[0m 0.0     \u001B[0m |\n",
      "| \u001B[0m 50      \u001B[0m | \u001B[0m 0.858   \u001B[0m | \u001B[0m 0.5333  \u001B[0m | \u001B[0m 1.131   \u001B[0m | \u001B[0m 2.632   \u001B[0m | \u001B[0m 0.0     \u001B[0m | \u001B[0m 0.6018  \u001B[0m | \u001B[0m 1.0     \u001B[0m | \u001B[0m 0.0     \u001B[0m | \u001B[0m 0.0     \u001B[0m |\n",
      "| \u001B[0m 51      \u001B[0m | \u001B[0m 0.854   \u001B[0m | \u001B[0m 0.5694  \u001B[0m | \u001B[0m 0.0     \u001B[0m | \u001B[0m 4.94    \u001B[0m | \u001B[0m 0.707   \u001B[0m | \u001B[0m 0.0     \u001B[0m | \u001B[0m 1.0     \u001B[0m | \u001B[0m 0.2478  \u001B[0m | \u001B[0m 0.0     \u001B[0m |\n",
      "| \u001B[0m 52      \u001B[0m | \u001B[0m 0.802   \u001B[0m | \u001B[0m 0.0     \u001B[0m | \u001B[0m 0.985   \u001B[0m | \u001B[0m 2.435   \u001B[0m | \u001B[0m 0.0     \u001B[0m | \u001B[0m 0.4762  \u001B[0m | \u001B[0m 0.2275  \u001B[0m | \u001B[0m 1.0     \u001B[0m | \u001B[0m 0.0     \u001B[0m |\n",
      "| \u001B[0m 53      \u001B[0m | \u001B[0m 0.85    \u001B[0m | \u001B[0m 1.0     \u001B[0m | \u001B[0m 9.632   \u001B[0m | \u001B[0m 2.187   \u001B[0m | \u001B[0m 0.0     \u001B[0m | \u001B[0m 0.6521  \u001B[0m | \u001B[0m 1.0     \u001B[0m | \u001B[0m 1.0     \u001B[0m | \u001B[0m 0.0     \u001B[0m |\n",
      "| \u001B[0m 54      \u001B[0m | \u001B[0m 0.852   \u001B[0m | \u001B[0m 1.0     \u001B[0m | \u001B[0m 1.614   \u001B[0m | \u001B[0m 3.322   \u001B[0m | \u001B[0m 0.0     \u001B[0m | \u001B[0m 0.0     \u001B[0m | \u001B[0m 1.0     \u001B[0m | \u001B[0m 0.0     \u001B[0m | \u001B[0m 0.0     \u001B[0m |\n",
      "| \u001B[0m 55      \u001B[0m | \u001B[0m 0.856   \u001B[0m | \u001B[0m 1.0     \u001B[0m | \u001B[0m 0.0     \u001B[0m | \u001B[0m 2.948   \u001B[0m | \u001B[0m 0.0     \u001B[0m | \u001B[0m 0.01705 \u001B[0m | \u001B[0m 1.0     \u001B[0m | \u001B[0m 0.0     \u001B[0m | \u001B[0m 0.0     \u001B[0m |\n",
      "| \u001B[0m 56      \u001B[0m | \u001B[0m 0.74    \u001B[0m | \u001B[0m 1.0     \u001B[0m | \u001B[0m 0.0     \u001B[0m | \u001B[0m 4.093   \u001B[0m | \u001B[0m 0.0     \u001B[0m | \u001B[0m 0.0     \u001B[0m | \u001B[0m 0.0     \u001B[0m | \u001B[0m 0.3394  \u001B[0m | \u001B[0m 0.0     \u001B[0m |\n",
      "| \u001B[0m 57      \u001B[0m | \u001B[0m 0.864   \u001B[0m | \u001B[0m 0.6306  \u001B[0m | \u001B[0m 0.6563  \u001B[0m | \u001B[0m 3.365   \u001B[0m | \u001B[0m 0.0     \u001B[0m | \u001B[0m 0.4242  \u001B[0m | \u001B[0m 1.0     \u001B[0m | \u001B[0m 0.0     \u001B[0m | \u001B[0m 0.8064  \u001B[0m |\n",
      "| \u001B[0m 58      \u001B[0m | \u001B[0m 0.814   \u001B[0m | \u001B[0m 0.0     \u001B[0m | \u001B[0m 0.06485 \u001B[0m | \u001B[0m 4.637   \u001B[0m | \u001B[0m 0.0     \u001B[0m | \u001B[0m 0.5382  \u001B[0m | \u001B[0m 1.0     \u001B[0m | \u001B[0m 0.7466  \u001B[0m | \u001B[0m 0.88    \u001B[0m |\n",
      "| \u001B[0m 59      \u001B[0m | \u001B[0m 0.84    \u001B[0m | \u001B[0m 1.0     \u001B[0m | \u001B[0m 1.215   \u001B[0m | \u001B[0m 2.383   \u001B[0m | \u001B[0m 0.0     \u001B[0m | \u001B[0m 0.0     \u001B[0m | \u001B[0m 1.0     \u001B[0m | \u001B[0m 0.0     \u001B[0m | \u001B[0m 0.985   \u001B[0m |\n",
      "| \u001B[0m 60      \u001B[0m | \u001B[0m 0.866   \u001B[0m | \u001B[0m 0.0     \u001B[0m | \u001B[0m 5.194   \u001B[0m | \u001B[0m 7.558   \u001B[0m | \u001B[0m 1.0     \u001B[0m | \u001B[0m 0.0     \u001B[0m | \u001B[0m 1.0     \u001B[0m | \u001B[0m 0.0     \u001B[0m | \u001B[0m 0.0     \u001B[0m |\n",
      "| \u001B[0m 61      \u001B[0m | \u001B[0m 0.856   \u001B[0m | \u001B[0m 0.0     \u001B[0m | \u001B[0m 5.492   \u001B[0m | \u001B[0m 8.814   \u001B[0m | \u001B[0m 1.0     \u001B[0m | \u001B[0m 0.0     \u001B[0m | \u001B[0m 1.0     \u001B[0m | \u001B[0m 0.7239  \u001B[0m | \u001B[0m 0.0     \u001B[0m |\n",
      "| \u001B[95m 62      \u001B[0m | \u001B[95m 0.872   \u001B[0m | \u001B[95m 0.6185  \u001B[0m | \u001B[95m 0.5847  \u001B[0m | \u001B[95m 3.317   \u001B[0m | \u001B[95m 0.8213  \u001B[0m | \u001B[95m 0.2974  \u001B[0m | \u001B[95m 1.0     \u001B[0m | \u001B[95m 0.0     \u001B[0m | \u001B[95m 0.0     \u001B[0m |\n",
      "| \u001B[0m 63      \u001B[0m | \u001B[0m 0.868   \u001B[0m | \u001B[0m 0.0     \u001B[0m | \u001B[0m 6.532   \u001B[0m | \u001B[0m 8.13    \u001B[0m | \u001B[0m 1.0     \u001B[0m | \u001B[0m 0.0     \u001B[0m | \u001B[0m 1.0     \u001B[0m | \u001B[0m 0.0     \u001B[0m | \u001B[0m 0.0     \u001B[0m |\n",
      "| \u001B[0m 64      \u001B[0m | \u001B[0m 0.864   \u001B[0m | \u001B[0m 0.0     \u001B[0m | \u001B[0m 6.764   \u001B[0m | \u001B[0m 9.382   \u001B[0m | \u001B[0m 1.0     \u001B[0m | \u001B[0m 0.0     \u001B[0m | \u001B[0m 1.0     \u001B[0m | \u001B[0m 0.0     \u001B[0m | \u001B[0m 0.0     \u001B[0m |\n",
      "| \u001B[0m 65      \u001B[0m | \u001B[0m 0.862   \u001B[0m | \u001B[0m 0.0     \u001B[0m | \u001B[0m 7.084   \u001B[0m | \u001B[0m 8.657   \u001B[0m | \u001B[0m 1.0     \u001B[0m | \u001B[0m 0.0     \u001B[0m | \u001B[0m 1.0     \u001B[0m | \u001B[0m 1.0     \u001B[0m | \u001B[0m 0.0     \u001B[0m |\n",
      "| \u001B[0m 66      \u001B[0m | \u001B[0m 0.842   \u001B[0m | \u001B[0m 0.0     \u001B[0m | \u001B[0m 6.578   \u001B[0m | \u001B[0m 8.772   \u001B[0m | \u001B[0m 1.0     \u001B[0m | \u001B[0m 0.0     \u001B[0m | \u001B[0m 1.0     \u001B[0m | \u001B[0m 0.3293  \u001B[0m | \u001B[0m 1.0     \u001B[0m |\n",
      "| \u001B[0m 67      \u001B[0m | \u001B[0m 0.862   \u001B[0m | \u001B[0m 0.0     \u001B[0m | \u001B[0m 7.38    \u001B[0m | \u001B[0m 8.641   \u001B[0m | \u001B[0m 1.0     \u001B[0m | \u001B[0m 0.9619  \u001B[0m | \u001B[0m 1.0     \u001B[0m | \u001B[0m 0.0     \u001B[0m | \u001B[0m 0.0     \u001B[0m |\n",
      "| \u001B[0m 68      \u001B[0m | \u001B[0m 0.442   \u001B[0m | \u001B[0m 0.0     \u001B[0m | \u001B[0m 7.336   \u001B[0m | \u001B[0m 8.668   \u001B[0m | \u001B[0m 1.0     \u001B[0m | \u001B[0m 0.0     \u001B[0m | \u001B[0m 0.0     \u001B[0m | \u001B[0m 0.0     \u001B[0m | \u001B[0m 0.0     \u001B[0m |\n",
      "| \u001B[0m 69      \u001B[0m | \u001B[0m 0.84    \u001B[0m | \u001B[0m 0.0     \u001B[0m | \u001B[0m 6.409   \u001B[0m | \u001B[0m 8.992   \u001B[0m | \u001B[0m 1.0     \u001B[0m | \u001B[0m 1.0     \u001B[0m | \u001B[0m 1.0     \u001B[0m | \u001B[0m 0.6008  \u001B[0m | \u001B[0m 0.0     \u001B[0m |\n",
      "| \u001B[0m 70      \u001B[0m | \u001B[0m 0.858   \u001B[0m | \u001B[0m 0.1326  \u001B[0m | \u001B[0m 6.297   \u001B[0m | \u001B[0m 10.0    \u001B[0m | \u001B[0m 0.8888  \u001B[0m | \u001B[0m 0.0     \u001B[0m | \u001B[0m 1.0     \u001B[0m | \u001B[0m 0.7325  \u001B[0m | \u001B[0m 0.06223 \u001B[0m |\n",
      "| \u001B[95m 71      \u001B[0m | \u001B[95m 0.884   \u001B[0m | \u001B[95m 0.0     \u001B[0m | \u001B[95m 5.891   \u001B[0m | \u001B[95m 9.365   \u001B[0m | \u001B[95m 0.2074  \u001B[0m | \u001B[95m 0.0     \u001B[0m | \u001B[95m 1.0     \u001B[0m | \u001B[95m 0.0     \u001B[0m | \u001B[95m 0.0     \u001B[0m |\n",
      "| \u001B[0m 72      \u001B[0m | \u001B[0m 0.838   \u001B[0m | \u001B[0m 0.0     \u001B[0m | \u001B[0m 6.246   \u001B[0m | \u001B[0m 8.826   \u001B[0m | \u001B[0m 0.0     \u001B[0m | \u001B[0m 0.0     \u001B[0m | \u001B[0m 1.0     \u001B[0m | \u001B[0m 0.9711  \u001B[0m | \u001B[0m 0.0     \u001B[0m |\n",
      "| \u001B[0m 73      \u001B[0m | \u001B[0m 0.856   \u001B[0m | \u001B[0m 0.7958  \u001B[0m | \u001B[0m 5.843   \u001B[0m | \u001B[0m 9.45    \u001B[0m | \u001B[0m 0.8873  \u001B[0m | \u001B[0m 0.0     \u001B[0m | \u001B[0m 1.0     \u001B[0m | \u001B[0m 0.0     \u001B[0m | \u001B[0m 0.0     \u001B[0m |\n",
      "| \u001B[0m 74      \u001B[0m | \u001B[0m 0.882   \u001B[0m | \u001B[0m 0.0     \u001B[0m | \u001B[0m 5.009   \u001B[0m | \u001B[0m 10.0    \u001B[0m | \u001B[0m 0.2956  \u001B[0m | \u001B[0m 0.0     \u001B[0m | \u001B[0m 1.0     \u001B[0m | \u001B[0m 0.0     \u001B[0m | \u001B[0m 0.0     \u001B[0m |\n",
      "| \u001B[0m 75      \u001B[0m | \u001B[0m 0.862   \u001B[0m | \u001B[0m 0.0     \u001B[0m | \u001B[0m 5.687   \u001B[0m | \u001B[0m 10.0    \u001B[0m | \u001B[0m 0.3334  \u001B[0m | \u001B[0m 0.0     \u001B[0m | \u001B[0m 1.0     \u001B[0m | \u001B[0m 0.0     \u001B[0m | \u001B[0m 0.893   \u001B[0m |\n",
      "| \u001B[0m 76      \u001B[0m | \u001B[0m 0.824   \u001B[0m | \u001B[0m 0.1456  \u001B[0m | \u001B[0m 4.634   \u001B[0m | \u001B[0m 9.232   \u001B[0m | \u001B[0m 0.03672 \u001B[0m | \u001B[0m 0.439   \u001B[0m | \u001B[0m 0.5052  \u001B[0m | \u001B[0m 0.1     \u001B[0m | \u001B[0m 0.5253  \u001B[0m |\n",
      "| \u001B[0m 77      \u001B[0m | \u001B[0m 0.836   \u001B[0m | \u001B[0m 0.0     \u001B[0m | \u001B[0m 6.966   \u001B[0m | \u001B[0m 7.683   \u001B[0m | \u001B[0m 1.0     \u001B[0m | \u001B[0m 1.0     \u001B[0m | \u001B[0m 1.0     \u001B[0m | \u001B[0m 1.0     \u001B[0m | \u001B[0m 0.0     \u001B[0m |\n",
      "| \u001B[0m 78      \u001B[0m | \u001B[0m 0.87    \u001B[0m | \u001B[0m 0.0     \u001B[0m | \u001B[0m 5.902   \u001B[0m | \u001B[0m 10.0    \u001B[0m | \u001B[0m 0.2066  \u001B[0m | \u001B[0m 0.8078  \u001B[0m | \u001B[0m 1.0     \u001B[0m | \u001B[0m 0.0     \u001B[0m | \u001B[0m 0.0     \u001B[0m |\n",
      "| \u001B[0m 79      \u001B[0m | \u001B[0m 0.842   \u001B[0m | \u001B[0m 0.8818  \u001B[0m | \u001B[0m 10.0    \u001B[0m | \u001B[0m 2.323   \u001B[0m | \u001B[0m 1.0     \u001B[0m | \u001B[0m 0.0     \u001B[0m | \u001B[0m 1.0     \u001B[0m | \u001B[0m 0.0     \u001B[0m | \u001B[0m 1.0     \u001B[0m |\n",
      "| \u001B[0m 80      \u001B[0m | \u001B[0m 0.836   \u001B[0m | \u001B[0m 0.0     \u001B[0m | \u001B[0m 5.297   \u001B[0m | \u001B[0m 10.0    \u001B[0m | \u001B[0m 0.0     \u001B[0m | \u001B[0m 0.0     \u001B[0m | \u001B[0m 1.0     \u001B[0m | \u001B[0m 0.9509  \u001B[0m | \u001B[0m 0.0     \u001B[0m |\n",
      "| \u001B[0m 81      \u001B[0m | \u001B[0m 0.852   \u001B[0m | \u001B[0m 0.0     \u001B[0m | \u001B[0m 4.581   \u001B[0m | \u001B[0m 10.0    \u001B[0m | \u001B[0m 1.0     \u001B[0m | \u001B[0m 0.0     \u001B[0m | \u001B[0m 1.0     \u001B[0m | \u001B[0m 0.0     \u001B[0m | \u001B[0m 0.6007  \u001B[0m |\n",
      "| \u001B[0m 82      \u001B[0m | \u001B[0m 0.86    \u001B[0m | \u001B[0m 1.0     \u001B[0m | \u001B[0m 0.2124  \u001B[0m | \u001B[0m 2.358   \u001B[0m | \u001B[0m 1.0     \u001B[0m | \u001B[0m 1.0     \u001B[0m | \u001B[0m 1.0     \u001B[0m | \u001B[0m 0.0     \u001B[0m | \u001B[0m 0.0     \u001B[0m |\n",
      "| \u001B[0m 83      \u001B[0m | \u001B[0m 0.874   \u001B[0m | \u001B[0m 0.5263  \u001B[0m | \u001B[0m 6.482   \u001B[0m | \u001B[0m 10.0    \u001B[0m | \u001B[0m 0.0     \u001B[0m | \u001B[0m 0.0     \u001B[0m | \u001B[0m 1.0     \u001B[0m | \u001B[0m 0.0     \u001B[0m | \u001B[0m 0.0     \u001B[0m |\n",
      "| \u001B[0m 84      \u001B[0m | \u001B[0m 0.826   \u001B[0m | \u001B[0m 0.9372  \u001B[0m | \u001B[0m 6.454   \u001B[0m | \u001B[0m 10.0    \u001B[0m | \u001B[0m 0.0     \u001B[0m | \u001B[0m 0.9741  \u001B[0m | \u001B[0m 1.0     \u001B[0m | \u001B[0m 0.0     \u001B[0m | \u001B[0m 0.9106  \u001B[0m |\n",
      "| \u001B[0m 85      \u001B[0m | \u001B[0m 0.86    \u001B[0m | \u001B[0m 0.0     \u001B[0m | \u001B[0m 7.022   \u001B[0m | \u001B[0m 10.0    \u001B[0m | \u001B[0m 0.9302  \u001B[0m | \u001B[0m 1.0     \u001B[0m | \u001B[0m 1.0     \u001B[0m | \u001B[0m 0.0     \u001B[0m | \u001B[0m 0.0     \u001B[0m |\n",
      "| \u001B[0m 86      \u001B[0m | \u001B[0m 0.858   \u001B[0m | \u001B[0m 0.0     \u001B[0m | \u001B[0m 10.0    \u001B[0m | \u001B[0m 2.846   \u001B[0m | \u001B[0m 1.0     \u001B[0m | \u001B[0m 0.0     \u001B[0m | \u001B[0m 1.0     \u001B[0m | \u001B[0m 1.0     \u001B[0m | \u001B[0m 0.0     \u001B[0m |\n",
      "| \u001B[0m 87      \u001B[0m | \u001B[0m 0.856   \u001B[0m | \u001B[0m 0.02311 \u001B[0m | \u001B[0m 8.815   \u001B[0m | \u001B[0m 1.98    \u001B[0m | \u001B[0m 0.9897  \u001B[0m | \u001B[0m 0.06853 \u001B[0m | \u001B[0m 0.7977  \u001B[0m | \u001B[0m 0.641   \u001B[0m | \u001B[0m 0.1247  \u001B[0m |\n",
      "| \u001B[0m 88      \u001B[0m | \u001B[0m 0.864   \u001B[0m | \u001B[0m 0.0     \u001B[0m | \u001B[0m 5.055   \u001B[0m | \u001B[0m 10.0    \u001B[0m | \u001B[0m 1.0     \u001B[0m | \u001B[0m 1.0     \u001B[0m | \u001B[0m 1.0     \u001B[0m | \u001B[0m 0.0     \u001B[0m | \u001B[0m 0.0     \u001B[0m |\n",
      "| \u001B[0m 89      \u001B[0m | \u001B[0m 0.788   \u001B[0m | \u001B[0m 0.0     \u001B[0m | \u001B[0m 10.0    \u001B[0m | \u001B[0m 1.746   \u001B[0m | \u001B[0m 0.3512  \u001B[0m | \u001B[0m 0.0     \u001B[0m | \u001B[0m 0.08366 \u001B[0m | \u001B[0m 1.0     \u001B[0m | \u001B[0m 0.0     \u001B[0m |\n",
      "| \u001B[0m 90      \u001B[0m | \u001B[0m 0.868   \u001B[0m | \u001B[0m 1.0     \u001B[0m | \u001B[0m 3.386   \u001B[0m | \u001B[0m 2.159   \u001B[0m | \u001B[0m 0.0     \u001B[0m | \u001B[0m 1.0     \u001B[0m | \u001B[0m 1.0     \u001B[0m | \u001B[0m 0.0     \u001B[0m | \u001B[0m 0.4563  \u001B[0m |\n",
      "| \u001B[0m 91      \u001B[0m | \u001B[0m 0.852   \u001B[0m | \u001B[0m 0.9045  \u001B[0m | \u001B[0m 3.566   \u001B[0m | \u001B[0m 1.67    \u001B[0m | \u001B[0m 0.7409  \u001B[0m | \u001B[0m 0.99    \u001B[0m | \u001B[0m 0.2994  \u001B[0m | \u001B[0m 0.4873  \u001B[0m | \u001B[0m 0.0     \u001B[0m |\n",
      "| \u001B[0m 92      \u001B[0m | \u001B[0m 0.832   \u001B[0m | \u001B[0m 0.0     \u001B[0m | \u001B[0m 3.529   \u001B[0m | \u001B[0m 1.956   \u001B[0m | \u001B[0m 0.0     \u001B[0m | \u001B[0m 0.2444  \u001B[0m | \u001B[0m 0.7641  \u001B[0m | \u001B[0m 0.0     \u001B[0m | \u001B[0m 0.6366  \u001B[0m |\n",
      "| \u001B[0m 93      \u001B[0m | \u001B[0m 0.866   \u001B[0m | \u001B[0m 1.0     \u001B[0m | \u001B[0m 2.343   \u001B[0m | \u001B[0m 1.755   \u001B[0m | \u001B[0m 0.5112  \u001B[0m | \u001B[0m 1.0     \u001B[0m | \u001B[0m 1.0     \u001B[0m | \u001B[0m 0.0     \u001B[0m | \u001B[0m 0.0     \u001B[0m |\n",
      "| \u001B[0m 94      \u001B[0m | \u001B[0m 0.828   \u001B[0m | \u001B[0m 1.0     \u001B[0m | \u001B[0m 2.755   \u001B[0m | \u001B[0m 1.713   \u001B[0m | \u001B[0m 0.3093  \u001B[0m | \u001B[0m 1.0     \u001B[0m | \u001B[0m 1.0     \u001B[0m | \u001B[0m 0.874   \u001B[0m | \u001B[0m 1.0     \u001B[0m |\n",
      "| \u001B[0m 95      \u001B[0m | \u001B[0m 0.87    \u001B[0m | \u001B[0m 1.0     \u001B[0m | \u001B[0m 2.826   \u001B[0m | \u001B[0m 3.056   \u001B[0m | \u001B[0m 0.0     \u001B[0m | \u001B[0m 1.0     \u001B[0m | \u001B[0m 1.0     \u001B[0m | \u001B[0m 0.0     \u001B[0m | \u001B[0m 0.0     \u001B[0m |\n",
      "| \u001B[0m 96      \u001B[0m | \u001B[0m 0.395   \u001B[0m | \u001B[0m 1.0     \u001B[0m | \u001B[0m 2.838   \u001B[0m | \u001B[0m 2.321   \u001B[0m | \u001B[0m 0.0     \u001B[0m | \u001B[0m 1.0     \u001B[0m | \u001B[0m 0.0     \u001B[0m | \u001B[0m 0.0     \u001B[0m | \u001B[0m 0.0     \u001B[0m |\n",
      "| \u001B[0m 97      \u001B[0m | \u001B[0m 0.876   \u001B[0m | \u001B[0m 0.0     \u001B[0m | \u001B[0m 5.717   \u001B[0m | \u001B[0m 9.961   \u001B[0m | \u001B[0m 0.7921  \u001B[0m | \u001B[0m 0.124   \u001B[0m | \u001B[0m 1.0     \u001B[0m | \u001B[0m 0.0     \u001B[0m | \u001B[0m 0.0     \u001B[0m |\n",
      "| \u001B[0m 98      \u001B[0m | \u001B[0m 0.82    \u001B[0m | \u001B[0m 0.4267  \u001B[0m | \u001B[0m 3.201   \u001B[0m | \u001B[0m 6.443   \u001B[0m | \u001B[0m 0.5571  \u001B[0m | \u001B[0m 0.671   \u001B[0m | \u001B[0m 0.7547  \u001B[0m | \u001B[0m 0.9744  \u001B[0m | \u001B[0m 0.6498  \u001B[0m |\n",
      "| \u001B[0m 99      \u001B[0m | \u001B[0m 0.844   \u001B[0m | \u001B[0m 0.0     \u001B[0m | \u001B[0m 5.704   \u001B[0m | \u001B[0m 9.313   \u001B[0m | \u001B[0m 0.7208  \u001B[0m | \u001B[0m 0.5272  \u001B[0m | \u001B[0m 1.0     \u001B[0m | \u001B[0m 0.0     \u001B[0m | \u001B[0m 0.4347  \u001B[0m |\n",
      "| \u001B[0m 100     \u001B[0m | \u001B[0m 0.8     \u001B[0m | \u001B[0m 0.3022  \u001B[0m | \u001B[0m 3.69    \u001B[0m | \u001B[0m 1.102   \u001B[0m | \u001B[0m 0.3892  \u001B[0m | \u001B[0m 0.2228  \u001B[0m | \u001B[0m 0.1381  \u001B[0m | \u001B[0m 0.1515  \u001B[0m | \u001B[0m 0.3154  \u001B[0m |\n",
      "| \u001B[0m 101     \u001B[0m | \u001B[0m 0.846   \u001B[0m | \u001B[0m 0.553   \u001B[0m | \u001B[0m 3.912   \u001B[0m | \u001B[0m 9.14    \u001B[0m | \u001B[0m 0.1257  \u001B[0m | \u001B[0m 0.492   \u001B[0m | \u001B[0m 0.9981  \u001B[0m | \u001B[0m 0.05965 \u001B[0m | \u001B[0m 0.8871  \u001B[0m |\n",
      "| \u001B[0m 102     \u001B[0m | \u001B[0m 0.876   \u001B[0m | \u001B[0m 0.5722  \u001B[0m | \u001B[0m 5.584   \u001B[0m | \u001B[0m 10.0    \u001B[0m | \u001B[0m 0.0405  \u001B[0m | \u001B[0m 0.05754 \u001B[0m | \u001B[0m 1.0     \u001B[0m | \u001B[0m 0.0     \u001B[0m | \u001B[0m 0.0     \u001B[0m |\n",
      "| \u001B[0m 103     \u001B[0m | \u001B[0m 0.774   \u001B[0m | \u001B[0m 0.05789 \u001B[0m | \u001B[0m 2.645   \u001B[0m | \u001B[0m 3.692   \u001B[0m | \u001B[0m 0.4791  \u001B[0m | \u001B[0m 0.7017  \u001B[0m | \u001B[0m 0.07588 \u001B[0m | \u001B[0m 0.9049  \u001B[0m | \u001B[0m 0.2245  \u001B[0m |\n",
      "| \u001B[0m 104     \u001B[0m | \u001B[0m 0.852   \u001B[0m | \u001B[0m 0.09832 \u001B[0m | \u001B[0m 4.128   \u001B[0m | \u001B[0m 4.293   \u001B[0m | \u001B[0m 0.8865  \u001B[0m | \u001B[0m 0.4632  \u001B[0m | \u001B[0m 0.5535  \u001B[0m | \u001B[0m 0.5797  \u001B[0m | \u001B[0m 0.004062\u001B[0m |\n",
      "| \u001B[0m 105     \u001B[0m | \u001B[0m 0.778   \u001B[0m | \u001B[0m 0.8579  \u001B[0m | \u001B[0m 6.259   \u001B[0m | \u001B[0m 2.998   \u001B[0m | \u001B[0m 0.4841  \u001B[0m | \u001B[0m 0.4286  \u001B[0m | \u001B[0m 0.1418  \u001B[0m | \u001B[0m 0.6304  \u001B[0m | \u001B[0m 0.972   \u001B[0m |\n",
      "| \u001B[0m 106     \u001B[0m | \u001B[0m 0.832   \u001B[0m | \u001B[0m 0.17    \u001B[0m | \u001B[0m 8.275   \u001B[0m | \u001B[0m 6.037   \u001B[0m | \u001B[0m 0.03783 \u001B[0m | \u001B[0m 0.2465  \u001B[0m | \u001B[0m 0.9181  \u001B[0m | \u001B[0m 0.9853  \u001B[0m | \u001B[0m 0.9336  \u001B[0m |\n",
      "| \u001B[0m 107     \u001B[0m | \u001B[0m 0.86    \u001B[0m | \u001B[0m 1.0     \u001B[0m | \u001B[0m 0.9924  \u001B[0m | \u001B[0m 3.101   \u001B[0m | \u001B[0m 0.5975  \u001B[0m | \u001B[0m 0.8206  \u001B[0m | \u001B[0m 1.0     \u001B[0m | \u001B[0m 0.3787  \u001B[0m | \u001B[0m 0.3065  \u001B[0m |\n",
      "| \u001B[0m 108     \u001B[0m | \u001B[0m 0.866   \u001B[0m | \u001B[0m 0.0     \u001B[0m | \u001B[0m 5.817   \u001B[0m | \u001B[0m 10.0    \u001B[0m | \u001B[0m 0.1177  \u001B[0m | \u001B[0m 0.0     \u001B[0m | \u001B[0m 0.3752  \u001B[0m | \u001B[0m 0.0     \u001B[0m | \u001B[0m 0.0     \u001B[0m |\n",
      "| \u001B[0m 109     \u001B[0m | \u001B[0m 0.858   \u001B[0m | \u001B[0m 0.4612  \u001B[0m | \u001B[0m 0.5077  \u001B[0m | \u001B[0m 4.043   \u001B[0m | \u001B[0m 0.5941  \u001B[0m | \u001B[0m 0.2053  \u001B[0m | \u001B[0m 0.7436  \u001B[0m | \u001B[0m 0.2683  \u001B[0m | \u001B[0m 0.5827  \u001B[0m |\n",
      "| \u001B[0m 110     \u001B[0m | \u001B[0m 0.858   \u001B[0m | \u001B[0m 1.0     \u001B[0m | \u001B[0m 3.99    \u001B[0m | \u001B[0m 1.913   \u001B[0m | \u001B[0m 0.7211  \u001B[0m | \u001B[0m 1.0     \u001B[0m | \u001B[0m 1.0     \u001B[0m | \u001B[0m 0.2975  \u001B[0m | \u001B[0m 0.5177  \u001B[0m |\n",
      "| \u001B[0m 111     \u001B[0m | \u001B[0m 0.842   \u001B[0m | \u001B[0m 0.6768  \u001B[0m | \u001B[0m 1.746   \u001B[0m | \u001B[0m 2.257   \u001B[0m | \u001B[0m 1.0     \u001B[0m | \u001B[0m 0.5871  \u001B[0m | \u001B[0m 1.0     \u001B[0m | \u001B[0m 0.1594  \u001B[0m | \u001B[0m 0.2559  \u001B[0m |\n",
      "| \u001B[0m 112     \u001B[0m | \u001B[0m 0.838   \u001B[0m | \u001B[0m 0.3484  \u001B[0m | \u001B[0m 5.25    \u001B[0m | \u001B[0m 9.008   \u001B[0m | \u001B[0m 0.7243  \u001B[0m | \u001B[0m 0.7434  \u001B[0m | \u001B[0m 0.6676  \u001B[0m | \u001B[0m 0.8839  \u001B[0m | \u001B[0m 0.328   \u001B[0m |\n",
      "| \u001B[0m 113     \u001B[0m | \u001B[0m 0.866   \u001B[0m | \u001B[0m 1.0     \u001B[0m | \u001B[0m 3.098   \u001B[0m | \u001B[0m 1.203   \u001B[0m | \u001B[0m 1.0     \u001B[0m | \u001B[0m 1.0     \u001B[0m | \u001B[0m 1.0     \u001B[0m | \u001B[0m 0.339   \u001B[0m | \u001B[0m 0.0     \u001B[0m |\n",
      "| \u001B[0m 114     \u001B[0m | \u001B[0m 0.836   \u001B[0m | \u001B[0m 0.1904  \u001B[0m | \u001B[0m 9.453   \u001B[0m | \u001B[0m 6.931   \u001B[0m | \u001B[0m 0.6778  \u001B[0m | \u001B[0m 0.8896  \u001B[0m | \u001B[0m 0.8619  \u001B[0m | \u001B[0m 0.8547  \u001B[0m | \u001B[0m 0.1315  \u001B[0m |\n",
      "| \u001B[0m 115     \u001B[0m | \u001B[0m 0.848   \u001B[0m | \u001B[0m 1.0     \u001B[0m | \u001B[0m 3.014   \u001B[0m | \u001B[0m 3.472   \u001B[0m | \u001B[0m 0.0     \u001B[0m | \u001B[0m 0.4381  \u001B[0m | \u001B[0m 1.0     \u001B[0m | \u001B[0m 0.186   \u001B[0m | \u001B[0m 0.5586  \u001B[0m |\n",
      "| \u001B[0m 116     \u001B[0m | \u001B[0m 0.84    \u001B[0m | \u001B[0m 0.5762  \u001B[0m | \u001B[0m 5.649   \u001B[0m | \u001B[0m 2.482   \u001B[0m | \u001B[0m 0.2368  \u001B[0m | \u001B[0m 0.2533  \u001B[0m | \u001B[0m 0.5842  \u001B[0m | \u001B[0m 0.858   \u001B[0m | \u001B[0m 0.09529 \u001B[0m |\n",
      "| \u001B[0m 117     \u001B[0m | \u001B[0m 0.85    \u001B[0m | \u001B[0m 0.1815  \u001B[0m | \u001B[0m 5.203   \u001B[0m | \u001B[0m 7.346   \u001B[0m | \u001B[0m 0.9017  \u001B[0m | \u001B[0m 0.2173  \u001B[0m | \u001B[0m 0.8814  \u001B[0m | \u001B[0m 0.3396  \u001B[0m | \u001B[0m 0.5295  \u001B[0m |\n",
      "| \u001B[0m 118     \u001B[0m | \u001B[0m 0.862   \u001B[0m | \u001B[0m 0.4661  \u001B[0m | \u001B[0m 3.604   \u001B[0m | \u001B[0m 1.734   \u001B[0m | \u001B[0m 1.0     \u001B[0m | \u001B[0m 1.0     \u001B[0m | \u001B[0m 1.0     \u001B[0m | \u001B[0m 1.0     \u001B[0m | \u001B[0m 0.0     \u001B[0m |\n",
      "| \u001B[0m 119     \u001B[0m | \u001B[0m 0.838   \u001B[0m | \u001B[0m 0.9298  \u001B[0m | \u001B[0m 3.541   \u001B[0m | \u001B[0m 1.857   \u001B[0m | \u001B[0m 0.5653  \u001B[0m | \u001B[0m 0.986   \u001B[0m | \u001B[0m 0.2422  \u001B[0m | \u001B[0m 0.397   \u001B[0m | \u001B[0m 0.148   \u001B[0m |\n",
      "| \u001B[0m 120     \u001B[0m | \u001B[0m 0.862   \u001B[0m | \u001B[0m 0.2296  \u001B[0m | \u001B[0m 6.17    \u001B[0m | \u001B[0m 7.238   \u001B[0m | \u001B[0m 1.0     \u001B[0m | \u001B[0m 0.0     \u001B[0m | \u001B[0m 1.0     \u001B[0m | \u001B[0m 0.0     \u001B[0m | \u001B[0m 0.0     \u001B[0m |\n",
      "| \u001B[0m 121     \u001B[0m | \u001B[0m 0.838   \u001B[0m | \u001B[0m 0.8333  \u001B[0m | \u001B[0m 8.869   \u001B[0m | \u001B[0m 3.846   \u001B[0m | \u001B[0m 0.1399  \u001B[0m | \u001B[0m 0.172   \u001B[0m | \u001B[0m 0.8863  \u001B[0m | \u001B[0m 0.3932  \u001B[0m | \u001B[0m 0.9446  \u001B[0m |\n",
      "| \u001B[0m 122     \u001B[0m | \u001B[0m 0.846   \u001B[0m | \u001B[0m 0.1671  \u001B[0m | \u001B[0m 0.1116  \u001B[0m | \u001B[0m 3.0     \u001B[0m | \u001B[0m 0.4856  \u001B[0m | \u001B[0m 0.9167  \u001B[0m | \u001B[0m 1.0     \u001B[0m | \u001B[0m 0.0     \u001B[0m | \u001B[0m 0.2844  \u001B[0m |\n",
      "| \u001B[0m 123     \u001B[0m | \u001B[0m 0.85    \u001B[0m | \u001B[0m 0.2834  \u001B[0m | \u001B[0m 4.622   \u001B[0m | \u001B[0m 7.028   \u001B[0m | \u001B[0m 0.6855  \u001B[0m | \u001B[0m 0.3158  \u001B[0m | \u001B[0m 0.8875  \u001B[0m | \u001B[0m 0.3501  \u001B[0m | \u001B[0m 0.5586  \u001B[0m |\n",
      "| \u001B[0m 124     \u001B[0m | \u001B[0m 0.826   \u001B[0m | \u001B[0m 0.22    \u001B[0m | \u001B[0m 8.346   \u001B[0m | \u001B[0m 5.698   \u001B[0m | \u001B[0m 0.6877  \u001B[0m | \u001B[0m 0.4777  \u001B[0m | \u001B[0m 0.222   \u001B[0m | \u001B[0m 0.7728  \u001B[0m | \u001B[0m 0.1952  \u001B[0m |\n",
      "| \u001B[0m 125     \u001B[0m | \u001B[0m 0.852   \u001B[0m | \u001B[0m 0.6551  \u001B[0m | \u001B[0m 3.181   \u001B[0m | \u001B[0m 2.501   \u001B[0m | \u001B[0m 1.0     \u001B[0m | \u001B[0m 0.7618  \u001B[0m | \u001B[0m 1.0     \u001B[0m | \u001B[0m 0.3837  \u001B[0m | \u001B[0m 0.4804  \u001B[0m |\n",
      "| \u001B[0m 126     \u001B[0m | \u001B[0m 0.828   \u001B[0m | \u001B[0m 0.2389  \u001B[0m | \u001B[0m 0.1465  \u001B[0m | \u001B[0m 4.709   \u001B[0m | \u001B[0m 0.8723  \u001B[0m | \u001B[0m 0.4516  \u001B[0m | \u001B[0m 0.4035  \u001B[0m | \u001B[0m 0.3947  \u001B[0m | \u001B[0m 0.8223  \u001B[0m |\n",
      "| \u001B[0m 127     \u001B[0m | \u001B[0m 0.854   \u001B[0m | \u001B[0m 0.3119  \u001B[0m | \u001B[0m 9.582   \u001B[0m | \u001B[0m 3.509   \u001B[0m | \u001B[0m 0.1954  \u001B[0m | \u001B[0m 0.1675  \u001B[0m | \u001B[0m 0.916   \u001B[0m | \u001B[0m 0.2295  \u001B[0m | \u001B[0m 0.7226  \u001B[0m |\n",
      "| \u001B[0m 128     \u001B[0m | \u001B[0m 0.794   \u001B[0m | \u001B[0m 0.485   \u001B[0m | \u001B[0m 1.214   \u001B[0m | \u001B[0m 7.888   \u001B[0m | \u001B[0m 0.7623  \u001B[0m | \u001B[0m 0.583   \u001B[0m | \u001B[0m 0.2545  \u001B[0m | \u001B[0m 0.9229  \u001B[0m | \u001B[0m 0.2823  \u001B[0m |\n",
      "| \u001B[0m 129     \u001B[0m | \u001B[0m 0.83    \u001B[0m | \u001B[0m 0.2672  \u001B[0m | \u001B[0m 2.25    \u001B[0m | \u001B[0m 8.496   \u001B[0m | \u001B[0m 0.1027  \u001B[0m | \u001B[0m 0.7061  \u001B[0m | \u001B[0m 0.2347  \u001B[0m | \u001B[0m 0.06087 \u001B[0m | \u001B[0m 0.4976  \u001B[0m |\n",
      "| \u001B[0m 130     \u001B[0m | \u001B[0m 0.852   \u001B[0m | \u001B[0m 0.9387  \u001B[0m | \u001B[0m 6.859   \u001B[0m | \u001B[0m 3.74    \u001B[0m | \u001B[0m 0.03562 \u001B[0m | \u001B[0m 0.9325  \u001B[0m | \u001B[0m 0.6731  \u001B[0m | \u001B[0m 0.07456 \u001B[0m | \u001B[0m 0.0684  \u001B[0m |\n",
      "| \u001B[0m 131     \u001B[0m | \u001B[0m 0.844   \u001B[0m | \u001B[0m 0.228   \u001B[0m | \u001B[0m 1.422   \u001B[0m | \u001B[0m 8.751   \u001B[0m | \u001B[0m 0.4413  \u001B[0m | \u001B[0m 0.7707  \u001B[0m | \u001B[0m 0.7164  \u001B[0m | \u001B[0m 0.9398  \u001B[0m | \u001B[0m 0.06715 \u001B[0m |\n",
      "| \u001B[0m 132     \u001B[0m | \u001B[0m 0.862   \u001B[0m | \u001B[0m 0.5723  \u001B[0m | \u001B[0m 0.855   \u001B[0m | \u001B[0m 7.64    \u001B[0m | \u001B[0m 0.5351  \u001B[0m | \u001B[0m 0.3762  \u001B[0m | \u001B[0m 0.5625  \u001B[0m | \u001B[0m 0.267   \u001B[0m | \u001B[0m 0.1194  \u001B[0m |\n",
      "| \u001B[0m 133     \u001B[0m | \u001B[0m 0.842   \u001B[0m | \u001B[0m 0.7567  \u001B[0m | \u001B[0m 4.047   \u001B[0m | \u001B[0m 2.603   \u001B[0m | \u001B[0m 0.0     \u001B[0m | \u001B[0m 1.0     \u001B[0m | \u001B[0m 1.0     \u001B[0m | \u001B[0m 0.6201  \u001B[0m | \u001B[0m 0.503   \u001B[0m |\n",
      "| \u001B[0m 134     \u001B[0m | \u001B[0m 0.718   \u001B[0m | \u001B[0m 0.08483 \u001B[0m | \u001B[0m 6.918   \u001B[0m | \u001B[0m 5.68    \u001B[0m | \u001B[0m 0.136   \u001B[0m | \u001B[0m 0.07243 \u001B[0m | \u001B[0m 0.002531\u001B[0m | \u001B[0m 0.3672  \u001B[0m | \u001B[0m 0.3806  \u001B[0m |\n",
      "| \u001B[0m 135     \u001B[0m | \u001B[0m 0.88    \u001B[0m | \u001B[0m 0.0     \u001B[0m | \u001B[0m 5.79    \u001B[0m | \u001B[0m 8.174   \u001B[0m | \u001B[0m 0.3759  \u001B[0m | \u001B[0m 0.0     \u001B[0m | \u001B[0m 1.0     \u001B[0m | \u001B[0m 0.0     \u001B[0m | \u001B[0m 0.0     \u001B[0m |\n",
      "| \u001B[0m 136     \u001B[0m | \u001B[0m 0.852   \u001B[0m | \u001B[0m 1.0     \u001B[0m | \u001B[0m 2.121   \u001B[0m | \u001B[0m 3.663   \u001B[0m | \u001B[0m 0.0     \u001B[0m | \u001B[0m 1.0     \u001B[0m | \u001B[0m 1.0     \u001B[0m | \u001B[0m 0.351   \u001B[0m | \u001B[0m 0.0     \u001B[0m |\n",
      "| \u001B[0m 137     \u001B[0m | \u001B[0m 0.854   \u001B[0m | \u001B[0m 0.654   \u001B[0m | \u001B[0m 5.932   \u001B[0m | \u001B[0m 8.117   \u001B[0m | \u001B[0m 1.0     \u001B[0m | \u001B[0m 0.0     \u001B[0m | \u001B[0m 1.0     \u001B[0m | \u001B[0m 0.4061  \u001B[0m | \u001B[0m 0.0     \u001B[0m |\n",
      "| \u001B[0m 138     \u001B[0m | \u001B[0m 0.836   \u001B[0m | \u001B[0m 0.2977  \u001B[0m | \u001B[0m 7.574   \u001B[0m | \u001B[0m 1.668   \u001B[0m | \u001B[0m 0.587   \u001B[0m | \u001B[0m 0.9762  \u001B[0m | \u001B[0m 0.4442  \u001B[0m | \u001B[0m 0.4325  \u001B[0m | \u001B[0m 0.3219  \u001B[0m |\n",
      "| \u001B[0m 139     \u001B[0m | \u001B[0m 0.84    \u001B[0m | \u001B[0m 0.1321  \u001B[0m | \u001B[0m 7.173   \u001B[0m | \u001B[0m 9.422   \u001B[0m | \u001B[0m 0.5257  \u001B[0m | \u001B[0m 0.138   \u001B[0m | \u001B[0m 0.5274  \u001B[0m | \u001B[0m 0.1982  \u001B[0m | \u001B[0m 0.4446  \u001B[0m |\n",
      "| \u001B[0m 140     \u001B[0m | \u001B[0m 0.828   \u001B[0m | \u001B[0m 0.3601  \u001B[0m | \u001B[0m 1.613   \u001B[0m | \u001B[0m 7.538   \u001B[0m | \u001B[0m 0.04395 \u001B[0m | \u001B[0m 0.8818  \u001B[0m | \u001B[0m 0.423   \u001B[0m | \u001B[0m 0.8432  \u001B[0m | \u001B[0m 0.006601\u001B[0m |\n",
      "| \u001B[0m 141     \u001B[0m | \u001B[0m 0.832   \u001B[0m | \u001B[0m 0.4265  \u001B[0m | \u001B[0m 5.555   \u001B[0m | \u001B[0m 2.605   \u001B[0m | \u001B[0m 0.2373  \u001B[0m | \u001B[0m 0.1541  \u001B[0m | \u001B[0m 0.4424  \u001B[0m | \u001B[0m 0.8343  \u001B[0m | \u001B[0m 0.05458 \u001B[0m |\n",
      "| \u001B[0m 142     \u001B[0m | \u001B[0m 0.846   \u001B[0m | \u001B[0m 0.7224  \u001B[0m | \u001B[0m 9.146   \u001B[0m | \u001B[0m 3.28    \u001B[0m | \u001B[0m 0.09899 \u001B[0m | \u001B[0m 0.1392  \u001B[0m | \u001B[0m 0.712   \u001B[0m | \u001B[0m 0.7247  \u001B[0m | \u001B[0m 0.3419  \u001B[0m |\n",
      "| \u001B[0m 143     \u001B[0m | \u001B[0m 0.832   \u001B[0m | \u001B[0m 0.8251  \u001B[0m | \u001B[0m 7.494   \u001B[0m | \u001B[0m 6.768   \u001B[0m | \u001B[0m 0.8659  \u001B[0m | \u001B[0m 0.6509  \u001B[0m | \u001B[0m 0.2374  \u001B[0m | \u001B[0m 0.1474  \u001B[0m | \u001B[0m 0.2483  \u001B[0m |\n",
      "| \u001B[0m 144     \u001B[0m | \u001B[0m 0.854   \u001B[0m | \u001B[0m 0.6112  \u001B[0m | \u001B[0m 5.03    \u001B[0m | \u001B[0m 10.0    \u001B[0m | \u001B[0m 0.7724  \u001B[0m | \u001B[0m 0.0     \u001B[0m | \u001B[0m 0.3669  \u001B[0m | \u001B[0m 0.0     \u001B[0m | \u001B[0m 0.0     \u001B[0m |\n",
      "| \u001B[0m 145     \u001B[0m | \u001B[0m 0.824   \u001B[0m | \u001B[0m 0.5434  \u001B[0m | \u001B[0m 2.444   \u001B[0m | \u001B[0m 2.733   \u001B[0m | \u001B[0m 0.6731  \u001B[0m | \u001B[0m 0.9043  \u001B[0m | \u001B[0m 0.2715  \u001B[0m | \u001B[0m 0.4182  \u001B[0m | \u001B[0m 0.469   \u001B[0m |\n",
      "| \u001B[0m 146     \u001B[0m | \u001B[0m 0.866   \u001B[0m | \u001B[0m 0.0     \u001B[0m | \u001B[0m 6.804   \u001B[0m | \u001B[0m 10.0    \u001B[0m | \u001B[0m 0.4395  \u001B[0m | \u001B[0m 0.04149 \u001B[0m | \u001B[0m 1.0     \u001B[0m | \u001B[0m 0.0     \u001B[0m | \u001B[0m 0.6038  \u001B[0m |\n",
      "| \u001B[0m 147     \u001B[0m | \u001B[0m 0.832   \u001B[0m | \u001B[0m 0.0     \u001B[0m | \u001B[0m 7.209   \u001B[0m | \u001B[0m 9.638   \u001B[0m | \u001B[0m 0.4966  \u001B[0m | \u001B[0m 0.2953  \u001B[0m | \u001B[0m 1.0     \u001B[0m | \u001B[0m 0.995   \u001B[0m | \u001B[0m 0.6252  \u001B[0m |\n",
      "| \u001B[0m 148     \u001B[0m | \u001B[0m 0.824   \u001B[0m | \u001B[0m 0.1241  \u001B[0m | \u001B[0m 4.284   \u001B[0m | \u001B[0m 7.276   \u001B[0m | \u001B[0m 0.1451  \u001B[0m | \u001B[0m 0.225   \u001B[0m | \u001B[0m 0.4472  \u001B[0m | \u001B[0m 0.1379  \u001B[0m | \u001B[0m 0.9269  \u001B[0m |\n",
      "| \u001B[0m 149     \u001B[0m | \u001B[0m 0.86    \u001B[0m | \u001B[0m 0.4805  \u001B[0m | \u001B[0m 6.474   \u001B[0m | \u001B[0m 9.168   \u001B[0m | \u001B[0m 0.0     \u001B[0m | \u001B[0m 0.0     \u001B[0m | \u001B[0m 1.0     \u001B[0m | \u001B[0m 0.0     \u001B[0m | \u001B[0m 0.533   \u001B[0m |\n",
      "| \u001B[0m 150     \u001B[0m | \u001B[0m 0.866   \u001B[0m | \u001B[0m 0.0     \u001B[0m | \u001B[0m 6.857   \u001B[0m | \u001B[0m 9.524   \u001B[0m | \u001B[0m 0.0     \u001B[0m | \u001B[0m 0.6294  \u001B[0m | \u001B[0m 1.0     \u001B[0m | \u001B[0m 0.0     \u001B[0m | \u001B[0m 0.0     \u001B[0m |\n",
      "| \u001B[0m 151     \u001B[0m | \u001B[0m 0.862   \u001B[0m | \u001B[0m 1.0     \u001B[0m | \u001B[0m 2.044   \u001B[0m | \u001B[0m 1.018   \u001B[0m | \u001B[0m 1.0     \u001B[0m | \u001B[0m 1.0     \u001B[0m | \u001B[0m 1.0     \u001B[0m | \u001B[0m 0.0     \u001B[0m | \u001B[0m 0.0     \u001B[0m |\n",
      "| \u001B[0m 152     \u001B[0m | \u001B[0m 0.838   \u001B[0m | \u001B[0m 0.9362  \u001B[0m | \u001B[0m 1.932   \u001B[0m | \u001B[0m 3.289   \u001B[0m | \u001B[0m 0.0     \u001B[0m | \u001B[0m 0.0     \u001B[0m | \u001B[0m 1.0     \u001B[0m | \u001B[0m 1.0     \u001B[0m | \u001B[0m 0.7813  \u001B[0m |\n",
      "| \u001B[0m 153     \u001B[0m | \u001B[0m 0.854   \u001B[0m | \u001B[0m 1.0     \u001B[0m | \u001B[0m 2.649   \u001B[0m | \u001B[0m 1.654   \u001B[0m | \u001B[0m 1.0     \u001B[0m | \u001B[0m 0.2626  \u001B[0m | \u001B[0m 1.0     \u001B[0m | \u001B[0m 0.9236  \u001B[0m | \u001B[0m 0.0     \u001B[0m |\n",
      "| \u001B[0m 154     \u001B[0m | \u001B[0m 0.856   \u001B[0m | \u001B[0m 0.09272 \u001B[0m | \u001B[0m 2.567   \u001B[0m | \u001B[0m 1.48    \u001B[0m | \u001B[0m 1.0     \u001B[0m | \u001B[0m 1.0     \u001B[0m | \u001B[0m 1.0     \u001B[0m | \u001B[0m 0.3311  \u001B[0m | \u001B[0m 0.1571  \u001B[0m |\n"
     ]
    },
    {
     "name": "stderr",
     "output_type": "stream",
     "text": [
      "<ipython-input-45-4e2aafae98be>:29: RuntimeWarning: invalid value encountered in double_scalars\n",
      "  if h1/h2 < a:\n",
      "<ipython-input-45-4e2aafae98be>:31: RuntimeWarning: invalid value encountered in double_scalars\n",
      "  if h2/h1 < a:\n",
      "<ipython-input-45-4e2aafae98be>:29: RuntimeWarning: invalid value encountered in double_scalars\n",
      "  if h1/h2 < a:\n",
      "<ipython-input-45-4e2aafae98be>:31: RuntimeWarning: invalid value encountered in double_scalars\n",
      "  if h2/h1 < a:\n"
     ]
    },
    {
     "ename": "KeyboardInterrupt",
     "evalue": "",
     "output_type": "error",
     "traceback": [
      "\u001B[1;31m---------------------------------------------------------------------------\u001B[0m",
      "\u001B[1;31mKeyError\u001B[0m                                  Traceback (most recent call last)",
      "\u001B[1;32mc:\\users\\jacek\\documents\\nlp\\venv2\\lib\\site-packages\\bayes_opt\\target_space.py\u001B[0m in \u001B[0;36mprobe\u001B[1;34m(self, params)\u001B[0m\n\u001B[0;32m    190\u001B[0m         \u001B[1;32mtry\u001B[0m\u001B[1;33m:\u001B[0m\u001B[1;33m\u001B[0m\u001B[1;33m\u001B[0m\u001B[0m\n\u001B[1;32m--> 191\u001B[1;33m             \u001B[0mtarget\u001B[0m \u001B[1;33m=\u001B[0m \u001B[0mself\u001B[0m\u001B[1;33m.\u001B[0m\u001B[0m_cache\u001B[0m\u001B[1;33m[\u001B[0m\u001B[0m_hashable\u001B[0m\u001B[1;33m(\u001B[0m\u001B[0mx\u001B[0m\u001B[1;33m)\u001B[0m\u001B[1;33m]\u001B[0m\u001B[1;33m\u001B[0m\u001B[1;33m\u001B[0m\u001B[0m\n\u001B[0m\u001B[0;32m    192\u001B[0m         \u001B[1;32mexcept\u001B[0m \u001B[0mKeyError\u001B[0m\u001B[1;33m:\u001B[0m\u001B[1;33m\u001B[0m\u001B[1;33m\u001B[0m\u001B[0m\n",
      "\u001B[1;31mKeyError\u001B[0m: (0.4645873228649092, 8.00762407632519, 0.7858474209305977, 0.7177419645890937, 0.72890626285081, 0.14907831161091067, 0.8447662403517101, 0.14795796809194395)",
      "\nDuring handling of the above exception, another exception occurred:\n",
      "\u001B[1;31mKeyboardInterrupt\u001B[0m                         Traceback (most recent call last)",
      "\u001B[1;32m<ipython-input-124-5ee2601aec3f>\u001B[0m in \u001B[0;36m<module>\u001B[1;34m\u001B[0m\n\u001B[0;32m      7\u001B[0m )\n\u001B[0;32m      8\u001B[0m \u001B[1;33m\u001B[0m\u001B[0m\n\u001B[1;32m----> 9\u001B[1;33m optimizer4.maximize(\n\u001B[0m\u001B[0;32m     10\u001B[0m     \u001B[0minit_points\u001B[0m\u001B[1;33m=\u001B[0m\u001B[1;36m25\u001B[0m\u001B[1;33m,\u001B[0m\u001B[1;33m\u001B[0m\u001B[1;33m\u001B[0m\u001B[0m\n\u001B[0;32m     11\u001B[0m     \u001B[0mn_iter\u001B[0m\u001B[1;33m=\u001B[0m\u001B[1;36m350\u001B[0m\u001B[1;33m,\u001B[0m\u001B[1;33m\u001B[0m\u001B[1;33m\u001B[0m\u001B[0m\n",
      "\u001B[1;32mc:\\users\\jacek\\documents\\nlp\\venv2\\lib\\site-packages\\bayes_opt\\bayesian_optimization.py\u001B[0m in \u001B[0;36mmaximize\u001B[1;34m(self, init_points, n_iter, acq, kappa, kappa_decay, kappa_decay_delay, xi, **gp_params)\u001B[0m\n\u001B[0;32m    183\u001B[0m                 \u001B[0miteration\u001B[0m \u001B[1;33m+=\u001B[0m \u001B[1;36m1\u001B[0m\u001B[1;33m\u001B[0m\u001B[1;33m\u001B[0m\u001B[0m\n\u001B[0;32m    184\u001B[0m \u001B[1;33m\u001B[0m\u001B[0m\n\u001B[1;32m--> 185\u001B[1;33m             \u001B[0mself\u001B[0m\u001B[1;33m.\u001B[0m\u001B[0mprobe\u001B[0m\u001B[1;33m(\u001B[0m\u001B[0mx_probe\u001B[0m\u001B[1;33m,\u001B[0m \u001B[0mlazy\u001B[0m\u001B[1;33m=\u001B[0m\u001B[1;32mFalse\u001B[0m\u001B[1;33m)\u001B[0m\u001B[1;33m\u001B[0m\u001B[1;33m\u001B[0m\u001B[0m\n\u001B[0m\u001B[0;32m    186\u001B[0m \u001B[1;33m\u001B[0m\u001B[0m\n\u001B[0;32m    187\u001B[0m             \u001B[1;32mif\u001B[0m \u001B[0mself\u001B[0m\u001B[1;33m.\u001B[0m\u001B[0m_bounds_transformer\u001B[0m\u001B[1;33m:\u001B[0m\u001B[1;33m\u001B[0m\u001B[1;33m\u001B[0m\u001B[0m\n",
      "\u001B[1;32mc:\\users\\jacek\\documents\\nlp\\venv2\\lib\\site-packages\\bayes_opt\\bayesian_optimization.py\u001B[0m in \u001B[0;36mprobe\u001B[1;34m(self, params, lazy)\u001B[0m\n\u001B[0;32m    114\u001B[0m             \u001B[0mself\u001B[0m\u001B[1;33m.\u001B[0m\u001B[0m_queue\u001B[0m\u001B[1;33m.\u001B[0m\u001B[0madd\u001B[0m\u001B[1;33m(\u001B[0m\u001B[0mparams\u001B[0m\u001B[1;33m)\u001B[0m\u001B[1;33m\u001B[0m\u001B[1;33m\u001B[0m\u001B[0m\n\u001B[0;32m    115\u001B[0m         \u001B[1;32melse\u001B[0m\u001B[1;33m:\u001B[0m\u001B[1;33m\u001B[0m\u001B[1;33m\u001B[0m\u001B[0m\n\u001B[1;32m--> 116\u001B[1;33m             \u001B[0mself\u001B[0m\u001B[1;33m.\u001B[0m\u001B[0m_space\u001B[0m\u001B[1;33m.\u001B[0m\u001B[0mprobe\u001B[0m\u001B[1;33m(\u001B[0m\u001B[0mparams\u001B[0m\u001B[1;33m)\u001B[0m\u001B[1;33m\u001B[0m\u001B[1;33m\u001B[0m\u001B[0m\n\u001B[0m\u001B[0;32m    117\u001B[0m             \u001B[0mself\u001B[0m\u001B[1;33m.\u001B[0m\u001B[0mdispatch\u001B[0m\u001B[1;33m(\u001B[0m\u001B[0mEvents\u001B[0m\u001B[1;33m.\u001B[0m\u001B[0mOPTIMIZATION_STEP\u001B[0m\u001B[1;33m)\u001B[0m\u001B[1;33m\u001B[0m\u001B[1;33m\u001B[0m\u001B[0m\n\u001B[0;32m    118\u001B[0m \u001B[1;33m\u001B[0m\u001B[0m\n",
      "\u001B[1;32mc:\\users\\jacek\\documents\\nlp\\venv2\\lib\\site-packages\\bayes_opt\\target_space.py\u001B[0m in \u001B[0;36mprobe\u001B[1;34m(self, params)\u001B[0m\n\u001B[0;32m    192\u001B[0m         \u001B[1;32mexcept\u001B[0m \u001B[0mKeyError\u001B[0m\u001B[1;33m:\u001B[0m\u001B[1;33m\u001B[0m\u001B[1;33m\u001B[0m\u001B[0m\n\u001B[0;32m    193\u001B[0m             \u001B[0mparams\u001B[0m \u001B[1;33m=\u001B[0m \u001B[0mdict\u001B[0m\u001B[1;33m(\u001B[0m\u001B[0mzip\u001B[0m\u001B[1;33m(\u001B[0m\u001B[0mself\u001B[0m\u001B[1;33m.\u001B[0m\u001B[0m_keys\u001B[0m\u001B[1;33m,\u001B[0m \u001B[0mx\u001B[0m\u001B[1;33m)\u001B[0m\u001B[1;33m)\u001B[0m\u001B[1;33m\u001B[0m\u001B[1;33m\u001B[0m\u001B[0m\n\u001B[1;32m--> 194\u001B[1;33m             \u001B[0mtarget\u001B[0m \u001B[1;33m=\u001B[0m \u001B[0mself\u001B[0m\u001B[1;33m.\u001B[0m\u001B[0mtarget_func\u001B[0m\u001B[1;33m(\u001B[0m\u001B[1;33m**\u001B[0m\u001B[0mparams\u001B[0m\u001B[1;33m)\u001B[0m\u001B[1;33m\u001B[0m\u001B[1;33m\u001B[0m\u001B[0m\n\u001B[0m\u001B[0;32m    195\u001B[0m             \u001B[0mself\u001B[0m\u001B[1;33m.\u001B[0m\u001B[0mregister\u001B[0m\u001B[1;33m(\u001B[0m\u001B[0mx\u001B[0m\u001B[1;33m,\u001B[0m \u001B[0mtarget\u001B[0m\u001B[1;33m)\u001B[0m\u001B[1;33m\u001B[0m\u001B[1;33m\u001B[0m\u001B[0m\n\u001B[0;32m    196\u001B[0m         \u001B[1;32mreturn\u001B[0m \u001B[0mtarget\u001B[0m\u001B[1;33m\u001B[0m\u001B[1;33m\u001B[0m\u001B[0m\n",
      "\u001B[1;32m<ipython-input-123-72cc4f6067b2>\u001B[0m in \u001B[0;36moptimize_resolve\u001B[1;34m(a, b, c, d, e, f, g, h)\u001B[0m\n\u001B[0;32m      1\u001B[0m \u001B[0mk\u001B[0m \u001B[1;33m=\u001B[0m \u001B[1;36m500\u001B[0m\u001B[1;33m\u001B[0m\u001B[1;33m\u001B[0m\u001B[0m\n\u001B[0;32m      2\u001B[0m \u001B[1;32mdef\u001B[0m \u001B[0moptimize_resolve\u001B[0m\u001B[1;33m(\u001B[0m\u001B[0ma\u001B[0m\u001B[1;33m,\u001B[0m \u001B[0mb\u001B[0m\u001B[1;33m,\u001B[0m \u001B[0mc\u001B[0m\u001B[1;33m,\u001B[0m \u001B[0md\u001B[0m\u001B[1;33m,\u001B[0m \u001B[0me\u001B[0m\u001B[1;33m,\u001B[0m \u001B[0mf\u001B[0m\u001B[1;33m,\u001B[0m \u001B[0mg\u001B[0m\u001B[1;33m,\u001B[0m \u001B[0mh\u001B[0m\u001B[1;33m)\u001B[0m\u001B[1;33m:\u001B[0m\u001B[1;33m\u001B[0m\u001B[1;33m\u001B[0m\u001B[0m\n\u001B[1;32m----> 3\u001B[1;33m     \u001B[1;32mreturn\u001B[0m \u001B[0mresolve_tests\u001B[0m\u001B[1;33m(\u001B[0m\u001B[0mtests\u001B[0m\u001B[1;33m[\u001B[0m\u001B[0mk\u001B[0m\u001B[1;33m*\u001B[0m\u001B[1;36m10\u001B[0m\u001B[1;33m:\u001B[0m\u001B[0mk\u001B[0m\u001B[1;33m*\u001B[0m\u001B[1;36m12\u001B[0m\u001B[1;33m]\u001B[0m\u001B[1;33m,\u001B[0m \u001B[0ma\u001B[0m\u001B[1;33m,\u001B[0m \u001B[0mb\u001B[0m\u001B[1;33m,\u001B[0m \u001B[0mc\u001B[0m\u001B[1;33m,\u001B[0m \u001B[0md\u001B[0m\u001B[1;33m,\u001B[0m \u001B[0me\u001B[0m\u001B[1;33m,\u001B[0m \u001B[0mf\u001B[0m\u001B[1;33m,\u001B[0m \u001B[0mg\u001B[0m\u001B[1;33m,\u001B[0m \u001B[0mh\u001B[0m\u001B[1;33m)\u001B[0m\u001B[1;33m\u001B[0m\u001B[1;33m\u001B[0m\u001B[0m\n\u001B[0m\u001B[0;32m      4\u001B[0m \u001B[1;33m\u001B[0m\u001B[0m\n",
      "\u001B[1;32m<ipython-input-122-e52fc9316dab>\u001B[0m in \u001B[0;36mresolve_tests\u001B[1;34m(tests, a, b, c, d, e, f, g, h, debug)\u001B[0m\n\u001B[0;32m      8\u001B[0m     \u001B[0mscore\u001B[0m \u001B[1;33m=\u001B[0m \u001B[1;36m0\u001B[0m\u001B[1;33m\u001B[0m\u001B[1;33m\u001B[0m\u001B[0m\n\u001B[0;32m      9\u001B[0m     \u001B[1;32mfor\u001B[0m \u001B[0mi\u001B[0m \u001B[1;32min\u001B[0m \u001B[0mrange\u001B[0m\u001B[1;33m(\u001B[0m\u001B[1;36m0\u001B[0m\u001B[1;33m,\u001B[0m \u001B[0mlen\u001B[0m\u001B[1;33m(\u001B[0m\u001B[0mtests\u001B[0m\u001B[1;33m)\u001B[0m\u001B[1;33m,\u001B[0m \u001B[1;36m2\u001B[0m\u001B[1;33m)\u001B[0m\u001B[1;33m:\u001B[0m\u001B[1;33m\u001B[0m\u001B[1;33m\u001B[0m\u001B[0m\n\u001B[1;32m---> 10\u001B[1;33m         \u001B[0mres\u001B[0m \u001B[1;33m=\u001B[0m \u001B[0mresolve_pair\u001B[0m\u001B[1;33m(\u001B[0m\u001B[0mtests\u001B[0m\u001B[1;33m[\u001B[0m\u001B[0mi\u001B[0m\u001B[1;33m]\u001B[0m\u001B[1;33m,\u001B[0m \u001B[0mtests\u001B[0m\u001B[1;33m[\u001B[0m\u001B[0mi\u001B[0m\u001B[1;33m+\u001B[0m\u001B[1;36m1\u001B[0m\u001B[1;33m]\u001B[0m\u001B[1;33m,\u001B[0m \u001B[0ma\u001B[0m\u001B[1;33m,\u001B[0m \u001B[0mb\u001B[0m\u001B[1;33m,\u001B[0m \u001B[0mc\u001B[0m\u001B[1;33m,\u001B[0m \u001B[0md\u001B[0m\u001B[1;33m,\u001B[0m \u001B[0me\u001B[0m\u001B[1;33m)\u001B[0m\u001B[1;33m\u001B[0m\u001B[1;33m\u001B[0m\u001B[0m\n\u001B[0m\u001B[0;32m     11\u001B[0m         \u001B[1;32mif\u001B[0m \u001B[0mres\u001B[0m\u001B[1;33m[\u001B[0m\u001B[1;36m0\u001B[0m\u001B[1;33m]\u001B[0m \u001B[1;33m==\u001B[0m \u001B[1;36m1\u001B[0m\u001B[1;33m:\u001B[0m\u001B[1;33m\u001B[0m\u001B[1;33m\u001B[0m\u001B[0m\n\u001B[0;32m     12\u001B[0m             \u001B[0mscore\u001B[0m \u001B[1;33m+=\u001B[0m \u001B[1;36m1\u001B[0m\u001B[1;33m\u001B[0m\u001B[1;33m\u001B[0m\u001B[0m\n",
      "\u001B[1;32m<ipython-input-45-4e2aafae98be>\u001B[0m in \u001B[0;36mresolve_pair\u001B[1;34m(w1, w2, a, b, c, d, e)\u001B[0m\n\u001B[0;32m     19\u001B[0m \u001B[1;33m\u001B[0m\u001B[0m\n\u001B[0;32m     20\u001B[0m     \u001B[0msp11\u001B[0m\u001B[1;33m,\u001B[0m \u001B[0msp12\u001B[0m \u001B[1;33m=\u001B[0m \u001B[0mcheck_phrases\u001B[0m\u001B[1;33m(\u001B[0m\u001B[0mw1\u001B[0m\u001B[1;33m)\u001B[0m\u001B[1;33m\u001B[0m\u001B[1;33m\u001B[0m\u001B[0m\n\u001B[1;32m---> 21\u001B[1;33m     \u001B[0msp21\u001B[0m\u001B[1;33m,\u001B[0m \u001B[0msp22\u001B[0m \u001B[1;33m=\u001B[0m \u001B[0mcheck_phrases\u001B[0m\u001B[1;33m(\u001B[0m\u001B[0mw2\u001B[0m\u001B[1;33m)\u001B[0m\u001B[1;33m\u001B[0m\u001B[1;33m\u001B[0m\u001B[0m\n\u001B[0m\u001B[0;32m     22\u001B[0m \u001B[1;33m\u001B[0m\u001B[0m\n\u001B[0;32m     23\u001B[0m     \u001B[1;32mif\u001B[0m \u001B[1;32mnot\u001B[0m \u001B[1;33m(\u001B[0m\u001B[1;33m(\u001B[0m\u001B[0msp11\u001B[0m \u001B[1;33m>\u001B[0m \u001B[0msp21\u001B[0m \u001B[1;33m*\u001B[0m \u001B[0mb\u001B[0m \u001B[1;32mor\u001B[0m \u001B[0msp12\u001B[0m \u001B[1;33m>\u001B[0m \u001B[0msp22\u001B[0m \u001B[1;33m*\u001B[0m \u001B[0mb\u001B[0m\u001B[1;33m)\u001B[0m \u001B[1;32mand\u001B[0m \u001B[1;33m(\u001B[0m\u001B[0msp11\u001B[0m \u001B[1;33m*\u001B[0m \u001B[0mb\u001B[0m \u001B[1;33m<\u001B[0m \u001B[0msp21\u001B[0m \u001B[1;32mor\u001B[0m \u001B[0msp12\u001B[0m \u001B[1;33m*\u001B[0m \u001B[0mb\u001B[0m \u001B[1;33m<\u001B[0m \u001B[0msp22\u001B[0m\u001B[1;33m)\u001B[0m\u001B[1;33m)\u001B[0m\u001B[1;33m:\u001B[0m\u001B[1;33m\u001B[0m\u001B[1;33m\u001B[0m\u001B[0m\n",
      "\u001B[1;32m<ipython-input-20-45a446214b2f>\u001B[0m in \u001B[0;36mcheck_phrases\u001B[1;34m(w, mx)\u001B[0m\n\u001B[0;32m     11\u001B[0m     \u001B[0mmn2\u001B[0m \u001B[1;33m=\u001B[0m \u001B[1;36m0\u001B[0m\u001B[1;33m\u001B[0m\u001B[1;33m\u001B[0m\u001B[0m\n\u001B[0;32m     12\u001B[0m     \u001B[1;32mfor\u001B[0m \u001B[0mph\u001B[0m \u001B[1;32min\u001B[0m \u001B[0mphs\u001B[0m\u001B[1;33m:\u001B[0m\u001B[1;33m\u001B[0m\u001B[1;33m\u001B[0m\u001B[0m\n\u001B[1;32m---> 13\u001B[1;33m         \u001B[0msc1\u001B[0m\u001B[1;33m,\u001B[0m \u001B[0msc2\u001B[0m \u001B[1;33m=\u001B[0m \u001B[0msplit_phrase\u001B[0m\u001B[1;33m(\u001B[0m\u001B[0mph\u001B[0m\u001B[1;33m[\u001B[0m\u001B[1;36m0\u001B[0m\u001B[1;33m]\u001B[0m\u001B[1;33m,\u001B[0m \u001B[0mph\u001B[0m\u001B[1;33m[\u001B[0m\u001B[1;36m1\u001B[0m\u001B[1;33m]\u001B[0m\u001B[1;33m,\u001B[0m \u001B[0mlen\u001B[0m\u001B[1;33m(\u001B[0m\u001B[0mw\u001B[0m\u001B[1;33m)\u001B[0m\u001B[1;33m)\u001B[0m\u001B[1;33m\u001B[0m\u001B[1;33m\u001B[0m\u001B[0m\n\u001B[0m\u001B[0;32m     14\u001B[0m         \u001B[1;32mif\u001B[0m \u001B[0msc1\u001B[0m \u001B[1;33m==\u001B[0m \u001B[1;36m2\u001B[0m\u001B[1;33m:\u001B[0m\u001B[1;33m\u001B[0m\u001B[1;33m\u001B[0m\u001B[0m\n\u001B[0;32m     15\u001B[0m             \u001B[0msc1\u001B[0m \u001B[1;33m=\u001B[0m \u001B[1;36m0.05\u001B[0m\u001B[1;33m\u001B[0m\u001B[1;33m\u001B[0m\u001B[0m\n",
      "\u001B[1;32m<ipython-input-19-df69f0e0bc19>\u001B[0m in \u001B[0;36msplit_phrase\u001B[1;34m(ph, p, l)\u001B[0m\n\u001B[0;32m     12\u001B[0m         \u001B[1;32mif\u001B[0m \u001B[0msi\u001B[0m \u001B[1;33m>\u001B[0m \u001B[1;36m0\u001B[0m\u001B[1;33m:\u001B[0m\u001B[1;33m\u001B[0m\u001B[1;33m\u001B[0m\u001B[0m\n\u001B[0;32m     13\u001B[0m             \u001B[0mww21\u001B[0m \u001B[1;33m=\u001B[0m \u001B[0mwrd\u001B[0m\u001B[1;33m[\u001B[0m\u001B[1;33m:\u001B[0m\u001B[0msi\u001B[0m\u001B[1;33m]\u001B[0m\u001B[1;33m\u001B[0m\u001B[1;33m\u001B[0m\u001B[0m\n\u001B[1;32m---> 14\u001B[1;33m             \u001B[0mans11\u001B[0m \u001B[1;33m=\u001B[0m \u001B[0mmin\u001B[0m\u001B[1;33m(\u001B[0m\u001B[0mans11\u001B[0m\u001B[1;33m,\u001B[0m \u001B[0mcheck_alpha\u001B[0m\u001B[1;33m(\u001B[0m\u001B[0mcheck_adj\u001B[0m\u001B[1;33m(\u001B[0m\u001B[0mww21\u001B[0m\u001B[1;33m)\u001B[0m\u001B[1;33m[\u001B[0m\u001B[1;36m0\u001B[0m\u001B[1;33m]\u001B[0m\u001B[1;33m)\u001B[0m\u001B[1;33m)\u001B[0m\u001B[1;33m\u001B[0m\u001B[1;33m\u001B[0m\u001B[0m\n\u001B[0m\u001B[0;32m     15\u001B[0m         \u001B[1;31m#print(wrd, ans11)\u001B[0m\u001B[1;33m\u001B[0m\u001B[1;33m\u001B[0m\u001B[1;33m\u001B[0m\u001B[0m\n\u001B[0;32m     16\u001B[0m         \u001B[1;32mif\u001B[0m \u001B[0mans11\u001B[0m \u001B[1;33m<\u001B[0m \u001B[0mbs2\u001B[0m\u001B[1;33m:\u001B[0m\u001B[1;33m\u001B[0m\u001B[1;33m\u001B[0m\u001B[0m\n",
      "\u001B[1;32m<ipython-input-111-00adef0eb1a2>\u001B[0m in \u001B[0;36mcheck_adj\u001B[1;34m(w)\u001B[0m\n\u001B[0;32m     18\u001B[0m             \u001B[1;32mif\u001B[0m \u001B[0mSA\u001B[0m\u001B[1;33m[\u001B[0m\u001B[0mi\u001B[0m\u001B[1;33m]\u001B[0m \u001B[1;33m-\u001B[0m \u001B[0mj\u001B[0m \u001B[1;33m-\u001B[0m \u001B[1;36m1\u001B[0m \u001B[1;33m>\u001B[0m \u001B[1;36m0\u001B[0m\u001B[1;33m:\u001B[0m\u001B[1;33m\u001B[0m\u001B[1;33m\u001B[0m\u001B[0m\n\u001B[0;32m     19\u001B[0m                 \u001B[1;32mif\u001B[0m \u001B[1;32mnot\u001B[0m \u001B[0mpre_b\u001B[0m\u001B[1;33m:\u001B[0m\u001B[1;33m\u001B[0m\u001B[1;33m\u001B[0m\u001B[0m\n\u001B[1;32m---> 20\u001B[1;33m                     \u001B[0mprefixes\u001B[0m\u001B[1;33m[\u001B[0m\u001B[0mj\u001B[0m\u001B[1;33m]\u001B[0m\u001B[1;33m[\u001B[0m\u001B[0mtext\u001B[0m\u001B[1;33m[\u001B[0m\u001B[0mSA\u001B[0m\u001B[1;33m[\u001B[0m\u001B[0mi\u001B[0m\u001B[1;33m]\u001B[0m\u001B[1;33m-\u001B[0m\u001B[0mj\u001B[0m\u001B[1;33m-\u001B[0m\u001B[1;36m1\u001B[0m\u001B[1;33m]\u001B[0m\u001B[1;33m]\u001B[0m \u001B[1;33m+=\u001B[0m \u001B[1;36m1\u001B[0m\u001B[1;33m\u001B[0m\u001B[1;33m\u001B[0m\u001B[0m\n\u001B[0m\u001B[0;32m     21\u001B[0m                     \u001B[1;32mif\u001B[0m \u001B[0mtext\u001B[0m\u001B[1;33m[\u001B[0m\u001B[0mSA\u001B[0m\u001B[1;33m[\u001B[0m\u001B[0mi\u001B[0m\u001B[1;33m]\u001B[0m\u001B[1;33m-\u001B[0m\u001B[0mj\u001B[0m\u001B[1;33m-\u001B[0m\u001B[1;36m1\u001B[0m\u001B[1;33m]\u001B[0m \u001B[1;33m==\u001B[0m \u001B[1;34m' '\u001B[0m\u001B[1;33m:\u001B[0m\u001B[1;33m\u001B[0m\u001B[1;33m\u001B[0m\u001B[0m\n\u001B[0;32m     22\u001B[0m                         \u001B[0mpre_b\u001B[0m \u001B[1;33m=\u001B[0m \u001B[1;32mTrue\u001B[0m\u001B[1;33m\u001B[0m\u001B[1;33m\u001B[0m\u001B[0m\n",
      "\u001B[1;31mKeyboardInterrupt\u001B[0m: "
     ]
    }
   ],
   "source": [
    "# Bounded region of parameter space\n",
    "pbounds = {'a': (0, 1), 'b': (0,10), 'c': (0,10), 'd': (0,1), 'e': (0,1), 'f': (0,1), 'g': (0,1), 'h': (0, 1)}\n",
    "\n",
    "optimizer4 = BayesianOptimization(\n",
    "    f=optimize_resolve,\n",
    "    pbounds=pbounds,\n",
    ")\n",
    "\n",
    "optimizer4.maximize(\n",
    "    init_points=25,\n",
    "    n_iter=350,\n",
    ")\n",
    "\n",
    "print(optimizer4.max)"
   ],
   "metadata": {
    "collapsed": false,
    "pycharm": {
     "name": "#%%\n"
    }
   }
  },
  {
   "cell_type": "code",
   "execution_count": 50,
   "outputs": [
    {
     "name": "stdout",
     "output_type": "stream",
     "text": [
      "|   iter    |  target   |     a     |     b     |     c     |     d     |     e     |\n",
      "-------------------------------------------------------------------------------------\n",
      "| \u001B[0m 31      \u001B[0m | \u001B[0m 0.888   \u001B[0m | \u001B[0m 0.7746  \u001B[0m | \u001B[0m 8.77    \u001B[0m | \u001B[0m 5.495   \u001B[0m | \u001B[0m 0.7412  \u001B[0m | \u001B[0m 0.01464 \u001B[0m |\n",
      "| \u001B[0m 32      \u001B[0m | \u001B[0m 0.902   \u001B[0m | \u001B[0m 0.3485  \u001B[0m | \u001B[0m 0.9864  \u001B[0m | \u001B[0m 5.861   \u001B[0m | \u001B[0m 0.3916  \u001B[0m | \u001B[0m 0.1867  \u001B[0m |\n",
      "| \u001B[0m 33      \u001B[0m | \u001B[0m 0.896   \u001B[0m | \u001B[0m 0.9486  \u001B[0m | \u001B[0m 1.311   \u001B[0m | \u001B[0m 9.906   \u001B[0m | \u001B[0m 0.2928  \u001B[0m | \u001B[0m 0.8464  \u001B[0m |\n",
      "| \u001B[0m 34      \u001B[0m | \u001B[0m 0.888   \u001B[0m | \u001B[0m 0.5447  \u001B[0m | \u001B[0m 5.746   \u001B[0m | \u001B[0m 9.874   \u001B[0m | \u001B[0m 0.8901  \u001B[0m | \u001B[0m 0.8948  \u001B[0m |\n",
      "| \u001B[0m 35      \u001B[0m | \u001B[0m 0.902   \u001B[0m | \u001B[0m 0.1643  \u001B[0m | \u001B[0m 1.126   \u001B[0m | \u001B[0m 3.932   \u001B[0m | \u001B[0m 0.007091\u001B[0m | \u001B[0m 0.3607  \u001B[0m |\n",
      "| \u001B[0m 36      \u001B[0m | \u001B[0m 0.906   \u001B[0m | \u001B[0m 0.0     \u001B[0m | \u001B[0m 6.05    \u001B[0m | \u001B[0m 7.845   \u001B[0m | \u001B[0m 0.0     \u001B[0m | \u001B[0m 0.0     \u001B[0m |\n",
      "| \u001B[0m 37      \u001B[0m | \u001B[0m 0.902   \u001B[0m | \u001B[0m 0.0     \u001B[0m | \u001B[0m 0.1398  \u001B[0m | \u001B[0m 4.964   \u001B[0m | \u001B[0m 0.0     \u001B[0m | \u001B[0m 0.7139  \u001B[0m |\n",
      "| \u001B[0m 38      \u001B[0m | \u001B[0m 0.868   \u001B[0m | \u001B[0m 1.0     \u001B[0m | \u001B[0m 0.3451  \u001B[0m | \u001B[0m 4.703   \u001B[0m | \u001B[0m 0.6041  \u001B[0m | \u001B[0m 0.0     \u001B[0m |\n",
      "| \u001B[0m 39      \u001B[0m | \u001B[0m 0.884   \u001B[0m | \u001B[0m 0.9261  \u001B[0m | \u001B[0m 5.538   \u001B[0m | \u001B[0m 7.981   \u001B[0m | \u001B[0m 0.0     \u001B[0m | \u001B[0m 0.1425  \u001B[0m |\n",
      "| \u001B[0m 40      \u001B[0m | \u001B[0m 0.9     \u001B[0m | \u001B[0m 0.0     \u001B[0m | \u001B[0m 6.444   \u001B[0m | \u001B[0m 8.275   \u001B[0m | \u001B[0m 0.0     \u001B[0m | \u001B[0m 0.8934  \u001B[0m |\n",
      "| \u001B[0m 41      \u001B[0m | \u001B[0m 0.894   \u001B[0m | \u001B[0m 0.0     \u001B[0m | \u001B[0m 1.302   \u001B[0m | \u001B[0m 5.087   \u001B[0m | \u001B[0m 0.0     \u001B[0m | \u001B[0m 1.0     \u001B[0m |\n",
      "| \u001B[0m 42      \u001B[0m | \u001B[0m 0.902   \u001B[0m | \u001B[0m 0.0     \u001B[0m | \u001B[0m 6.315   \u001B[0m | \u001B[0m 6.976   \u001B[0m | \u001B[0m 0.0     \u001B[0m | \u001B[0m 0.7735  \u001B[0m |\n",
      "| \u001B[0m 43      \u001B[0m | \u001B[0m 0.904   \u001B[0m | \u001B[0m 0.0     \u001B[0m | \u001B[0m 0.1758  \u001B[0m | \u001B[0m 6.332   \u001B[0m | \u001B[0m 0.0     \u001B[0m | \u001B[0m 0.7616  \u001B[0m |\n",
      "| \u001B[0m 44      \u001B[0m | \u001B[0m 0.9     \u001B[0m | \u001B[0m 0.0     \u001B[0m | \u001B[0m 1.202   \u001B[0m | \u001B[0m 6.931   \u001B[0m | \u001B[0m 0.0     \u001B[0m | \u001B[0m 0.2432  \u001B[0m |\n",
      "| \u001B[0m 45      \u001B[0m | \u001B[0m 0.906   \u001B[0m | \u001B[0m 0.0     \u001B[0m | \u001B[0m 0.7566  \u001B[0m | \u001B[0m 6.559   \u001B[0m | \u001B[0m 1.0     \u001B[0m | \u001B[0m 1.0     \u001B[0m |\n",
      "| \u001B[0m 46      \u001B[0m | \u001B[0m 0.896   \u001B[0m | \u001B[0m 0.3167  \u001B[0m | \u001B[0m 0.2195  \u001B[0m | \u001B[0m 7.018   \u001B[0m | \u001B[0m 1.0     \u001B[0m | \u001B[0m 0.07716 \u001B[0m |\n",
      "| \u001B[0m 47      \u001B[0m | \u001B[0m 0.884   \u001B[0m | \u001B[0m 0.9879  \u001B[0m | \u001B[0m 0.8391  \u001B[0m | \u001B[0m 6.744   \u001B[0m | \u001B[0m 0.3224  \u001B[0m | \u001B[0m 1.0     \u001B[0m |\n",
      "| \u001B[0m 48      \u001B[0m | \u001B[0m 0.896   \u001B[0m | \u001B[0m 0.0     \u001B[0m | \u001B[0m 5.931   \u001B[0m | \u001B[0m 7.907   \u001B[0m | \u001B[0m 1.0     \u001B[0m | \u001B[0m 0.3652  \u001B[0m |\n",
      "| \u001B[0m 49      \u001B[0m | \u001B[0m 0.904   \u001B[0m | \u001B[0m 0.0     \u001B[0m | \u001B[0m 4.545   \u001B[0m | \u001B[0m 8.845   \u001B[0m | \u001B[0m 0.0     \u001B[0m | \u001B[0m 1.0     \u001B[0m |\n",
      "| \u001B[0m 50      \u001B[0m | \u001B[0m 0.904   \u001B[0m | \u001B[0m 0.0     \u001B[0m | \u001B[0m 7.283   \u001B[0m | \u001B[0m 7.479   \u001B[0m | \u001B[0m 0.0     \u001B[0m | \u001B[0m 0.0     \u001B[0m |\n",
      "| \u001B[0m 51      \u001B[0m | \u001B[0m 0.902   \u001B[0m | \u001B[0m 0.0     \u001B[0m | \u001B[0m 4.342   \u001B[0m | \u001B[0m 9.578   \u001B[0m | \u001B[0m 0.0     \u001B[0m | \u001B[0m 0.0     \u001B[0m |\n",
      "| \u001B[0m 52      \u001B[0m | \u001B[0m 0.904   \u001B[0m | \u001B[0m 0.0     \u001B[0m | \u001B[0m 8.197   \u001B[0m | \u001B[0m 7.509   \u001B[0m | \u001B[0m 0.0     \u001B[0m | \u001B[0m 1.0     \u001B[0m |\n",
      "| \u001B[0m 53      \u001B[0m | \u001B[0m 0.908   \u001B[0m | \u001B[0m 0.0     \u001B[0m | \u001B[0m 7.54    \u001B[0m | \u001B[0m 7.111   \u001B[0m | \u001B[0m 1.0     \u001B[0m | \u001B[0m 1.0     \u001B[0m |\n",
      "| \u001B[0m 54      \u001B[0m | \u001B[0m 0.9     \u001B[0m | \u001B[0m 0.0     \u001B[0m | \u001B[0m 8.225   \u001B[0m | \u001B[0m 7.756   \u001B[0m | \u001B[0m 1.0     \u001B[0m | \u001B[0m 0.2365  \u001B[0m |\n",
      "| \u001B[0m 55      \u001B[0m | \u001B[0m 0.878   \u001B[0m | \u001B[0m 0.991   \u001B[0m | \u001B[0m 7.969   \u001B[0m | \u001B[0m 7.112   \u001B[0m | \u001B[0m 0.5792  \u001B[0m | \u001B[0m 0.8768  \u001B[0m |\n",
      "| \u001B[0m 56      \u001B[0m | \u001B[0m 0.9     \u001B[0m | \u001B[0m 0.01263 \u001B[0m | \u001B[0m 7.082   \u001B[0m | \u001B[0m 6.725   \u001B[0m | \u001B[0m 0.7386  \u001B[0m | \u001B[0m 0.3876  \u001B[0m |\n",
      "| \u001B[0m 57      \u001B[0m | \u001B[0m 0.902   \u001B[0m | \u001B[0m 0.0     \u001B[0m | \u001B[0m 8.747   \u001B[0m | \u001B[0m 8.723   \u001B[0m | \u001B[0m 0.0     \u001B[0m | \u001B[0m 1.0     \u001B[0m |\n",
      "| \u001B[0m 58      \u001B[0m | \u001B[0m 0.902   \u001B[0m | \u001B[0m 0.0     \u001B[0m | \u001B[0m 9.757   \u001B[0m | \u001B[0m 7.751   \u001B[0m | \u001B[0m 0.0     \u001B[0m | \u001B[0m 1.0     \u001B[0m |\n",
      "| \u001B[0m 59      \u001B[0m | \u001B[0m 0.91    \u001B[0m | \u001B[0m 0.0     \u001B[0m | \u001B[0m 0.0     \u001B[0m | \u001B[0m 5.818   \u001B[0m | \u001B[0m 1.0     \u001B[0m | \u001B[0m 1.0     \u001B[0m |\n",
      "| \u001B[0m 60      \u001B[0m | \u001B[0m 0.904   \u001B[0m | \u001B[0m 0.0     \u001B[0m | \u001B[0m 10.0    \u001B[0m | \u001B[0m 8.902   \u001B[0m | \u001B[0m 0.0     \u001B[0m | \u001B[0m 0.0     \u001B[0m |\n",
      "=====================================================================================\n"
     ]
    }
   ],
   "source": [
    "optimizer2.maximize(\n",
    "    n_iter=25\n",
    ")"
   ],
   "metadata": {
    "collapsed": false,
    "pycharm": {
     "name": "#%%\n"
    }
   }
  },
  {
   "cell_type": "code",
   "execution_count": 51,
   "outputs": [
    {
     "name": "stdout",
     "output_type": "stream",
     "text": [
      "{'target': 0.91, 'params': {'a': 0.0, 'b': 5.155686764517385, 'c': 5.183080271119191, 'd': 0.0, 'e': 0.0}}\n"
     ]
    }
   ],
   "source": [
    "print(optimizer2.max)"
   ],
   "metadata": {
    "collapsed": false,
    "pycharm": {
     "name": "#%%\n"
    }
   }
  },
  {
   "cell_type": "code",
   "execution_count": null,
   "outputs": [],
   "source": [
    "check_phrases(\"minie\", mx=50)"
   ],
   "metadata": {
    "collapsed": false,
    "pycharm": {
     "name": "#%%\n"
    }
   }
  },
  {
   "cell_type": "code",
   "execution_count": 48,
   "outputs": [
    {
     "name": "stdout",
     "output_type": "stream",
     "text": [
      "{'a': 1.0, 'b': 2.0313652123814605, 'c': 7.871869558882175, 'd': 1.0, 'e': 0.0}\n",
      "0.88\n",
      "{'a': 1.0, 'b': 1.7242774560196796, 'c': 7.742000801077994, 'd': 0.26088228565795984, 'e': 1.0}\n",
      "0.874\n",
      "{'a': 1.0, 'b': 1.8494571095922747, 'c': 8.367724467643741, 'd': 0.0, 'e': 1.0}\n",
      "0.876\n",
      "{'a': 0.89344273412914, 'b': 1.676773747090854, 'c': 2.0109017843920007, 'd': 0.6250908895471177, 'e': 0.04132627162571467}\n",
      "0.88\n",
      "{'a': 1.0, 'b': 1.659555358435471, 'c': 5.237112017274674, 'd': 0.0, 'e': 0.0}\n",
      "0.882\n",
      "{'a': 1.0, 'b': 1.6946088948595042, 'c': 6.550546195504436, 'd': 0.0, 'e': 0.5214915459281337}\n",
      "0.882\n",
      "{'a': 0.9902703917433712, 'b': 1.8828795028659706, 'c': 2.262446484717012, 'd': 0.6058242108032431, 'e': 0.09687019875439362}\n",
      "0.878\n",
      "{'a': 1.0, 'b': 1.8955154308302125, 'c': 7.668208797269095, 'd': 1.0, 'e': 1.0}\n",
      "0.878\n",
      "{'a': 1.0, 'b': 1.8123855803622844, 'c': 3.3982361449263774, 'd': 0.0, 'e': 0.0}\n",
      "0.874\n",
      "{'a': 1.0, 'b': 1.8339040659480945, 'c': 1.7135540395376185, 'd': 0.0, 'e': 0.5716405936132313}\n",
      "0.874\n",
      "{'a': 1.0, 'b': 1.7031526187200225, 'c': 2.1588319019970204, 'd': 0.0, 'e': 1.0}\n",
      "0.886\n",
      "{'a': 1.0, 'b': 1.7926673047607868, 'c': 1.5799768695981444, 'd': 0.0, 'e': 1.0}\n",
      "0.878\n",
      "{'a': 1.0, 'b': 2.007189001346812, 'c': 5.2627190861676745, 'd': 1.0, 'e': 1.0}\n",
      "0.882\n",
      "{'a': 1.0, 'b': 1.7629990384959224, 'c': 8.564130548776598, 'd': 0.0, 'e': 0.5491366839816451}\n",
      "0.878\n",
      "{'a': 0.9910005110681059, 'b': 1.7821421787198521, 'c': 9.425556036198511, 'd': 0.9878332111053478, 'e': 0.4844251600766014}\n",
      "0.878\n",
      "{'a': 1.0, 'b': 1.7250757348271415, 'c': 9.451207341129537, 'd': 0.0, 'e': 0.0}\n",
      "0.874\n",
      "{'a': 0.9646545758517101, 'b': 1.8191998429323708, 'c': 2.6792120913173214, 'd': 0.5341927537397467, 'e': 0.9808021255767089}\n",
      "0.876\n",
      "{'a': 1.0, 'b': 1.777609591523157, 'c': 9.301190831247544, 'd': 0.5180882976208684, 'e': 0.0}\n",
      "0.886\n",
      "{'a': 1.0, 'b': 1.732903533936729, 'c': 0.2394188716940243, 'd': 0.0, 'e': 0.0}\n",
      "0.872\n",
      "{'a': 1.0, 'b': 2.010825109864208, 'c': 2.577877556386104, 'd': 0.4897601408408859, 'e': 0.5731873593172566}\n",
      "0.884\n",
      "{'a': 1.0, 'b': 1.8058347715139502, 'c': 9.489646896768786, 'd': 1.0, 'e': 0.0}\n",
      "0.884\n",
      "{'a': 1.0, 'b': 1.733606756713284, 'c': 8.165740045418644, 'd': 1.0, 'e': 1.0}\n",
      "0.884\n",
      "{'a': 1.0, 'b': 1.7251090331261683, 'c': 8.490388772761674, 'd': 0.3395212849455606, 'e': 0.3925452123996846}\n",
      "0.876\n",
      "{'a': 0.9763308260330019, 'b': 1.9627884954284536, 'c': 8.81919345472909, 'd': 0.3600104945843823, 'e': 0.5213106637816465}\n",
      "0.88\n",
      "{'a': 1.0, 'b': 1.8074250411828872, 'c': 6.463157611304088, 'd': 0.0, 'e': 0.32439581228775377}\n",
      "0.88\n"
     ]
    }
   ],
   "source": [
    "res = optimizer.res\n",
    "res.sort(key= lambda x: x[\"target\"], reverse=True)\n",
    "for i in range(25):\n",
    "    params = res[i][\"params\"]\n",
    "    print(params)\n",
    "    print(optimize_resolve(params[\"a\"], params[\"b\"], params[\"c\"], params[\"d\"], params[\"e\"]))\n"
   ],
   "metadata": {
    "collapsed": false,
    "pycharm": {
     "name": "#%%\n"
    }
   }
  },
  {
   "cell_type": "code",
   "execution_count": null,
   "outputs": [],
   "source": [
    "phs = find_phrases(\"dzisiejszego\")\n",
    "print(phs)\n",
    "split_phrase(phs[1][0], phs[1][1], len(phs))"
   ],
   "metadata": {
    "collapsed": false,
    "pycharm": {
     "name": "#%%\n"
    }
   }
  },
  {
   "cell_type": "code",
   "execution_count": 117,
   "outputs": [
    {
     "name": "stdout",
     "output_type": "stream",
     "text": [
      "(False, 4, 0.7001670004687783)\n",
      "[11, 2111061]\n",
      "[[{' ': 2, 'a': 1, 'ą': 0, 'b': 0, 'c': 0, 'ć': 0, 'd': 1, 'e': 3, 'ę': 0, 'f': 0, 'g': 0, 'h': 0, 'i': 0, 'j': 1, 'k': 0, 'l': 0, 'ł': 0, 'm': 2, 'n': 0, 'ń': 0, 'o': 1, 'ó': 0, 'p': 0, 'q': 0, 'r': 0, 's': 0, 'ś': 0, 't': 0, 'u': 0, 'v': 0, 'w': 0, 'x': 0, 'y': 0, 'z': 0, 'ż': 0, 'ź': 0}, {' ': 3, 'a': 0, 'ą': 0, 'b': 0, 'c': 0, 'ć': 0, 'd': 0, 'e': 1, 'ę': 0, 'f': 0, 'g': 0, 'h': 0, 'i': 4, 'j': 0, 'k': 0, 'l': 0, 'ł': 0, 'm': 0, 'n': 0, 'ń': 0, 'o': 1, 'ó': 0, 'p': 0, 'q': 0, 'r': 0, 's': 0, 'ś': 0, 't': 0, 'u': 0, 'v': 0, 'w': 0, 'x': 0, 'y': 1, 'z': 1, 'ż': 0, 'ź': 0}, {' ': 4, 'a': 0, 'ą': 0, 'b': 0, 'c': 0, 'ć': 0, 'd': 0, 'e': 0, 'ę': 0, 'f': 0, 'g': 0, 'h': 0, 'i': 1, 'j': 0, 'k': 0, 'l': 0, 'ł': 0, 'm': 0, 'n': 4, 'ń': 0, 'o': 0, 'ó': 0, 'p': 1, 'q': 0, 'r': 0, 's': 0, 'ś': 0, 't': 0, 'u': 0, 'v': 0, 'w': 0, 'x': 0, 'y': 0, 'z': 1, 'ż': 0, 'ź': 0}], [{' ': 3, 'a': 0, 'ą': 0, 'b': 0, 'c': 0, 'ć': 0, 'd': 3, 'e': 0, 'ę': 0, 'f': 0, 'g': 0, 'h': 0, 'i': 1, 'j': 0, 'k': 0, 'l': 0, 'ł': 0, 'm': 0, 'n': 0, 'ń': 0, 'o': 0, 'ó': 0, 'p': 0, 'q': 0, 'r': 1, 's': 1, 'ś': 0, 't': 0, 'u': 0, 'v': 0, 'w': 1, 'x': 0, 'y': 0, 'z': 1, 'ż': 0, 'ź': 0}, {' ': 3, 'a': 1, 'ą': 0, 'b': 0, 'c': 0, 'ć': 0, 'd': 0, 'e': 0, 'ę': 0, 'f': 0, 'g': 0, 'h': 0, 'i': 1, 'j': 0, 'k': 0, 'l': 0, 'ł': 0, 'm': 0, 'n': 1, 'ń': 0, 'o': 3, 'ó': 1, 'p': 0, 'q': 0, 'r': 0, 's': 0, 'ś': 0, 't': 0, 'u': 0, 'v': 0, 'w': 1, 'x': 0, 'y': 0, 'z': 0, 'ż': 0, 'ź': 0}, {' ': 3, 'a': 1, 'ą': 0, 'b': 0, 'c': 1, 'ć': 0, 'd': 0, 'e': 0, 'ę': 1, 'f': 0, 'g': 0, 'h': 0, 'i': 0, 'j': 0, 'k': 0, 'l': 0, 'ł': 0, 'm': 0, 'n': 0, 'ń': 0, 'o': 1, 'ó': 0, 'p': 0, 'q': 0, 'r': 0, 's': 0, 'ś': 0, 't': 0, 'u': 0, 'v': 0, 'w': 4, 'x': 0, 'y': 0, 'z': 0, 'ż': 0, 'ź': 0}]]\n",
      "0.5605993868571286\n",
      "0.510792099528993\n",
      "[('zainteresowaniposzukająwsieciiznajdąbezproblemutooczympiszę', 55), ('toświetniebojacałyczasotymwłaśniepiszę', 34)]\n",
      "(0.07184997307607426, 0.06507371547281599)\n"
     ]
    }
   ],
   "source": [
    "tt = \"piszę\"\n",
    "print(find_split(tt))\n",
    "print(count_words(tt))\n",
    "print(check_adj(tt))\n",
    "print(check_alpha(check_adj(tt)[0]))\n",
    "print(check_alpha(check_adj(tt)[1]))\n",
    "print(find_phrases(tt)[:2])\n",
    "print(check_phrases(tt))"
   ],
   "metadata": {
    "collapsed": false,
    "pycharm": {
     "name": "#%%\n"
    }
   }
  }
 ],
 "metadata": {
  "kernelspec": {
   "display_name": "Python 3",
   "language": "python",
   "name": "python3"
  },
  "language_info": {
   "codemirror_mode": {
    "name": "ipython",
    "version": 2
   },
   "file_extension": ".py",
   "mimetype": "text/x-python",
   "name": "python",
   "nbconvert_exporter": "python",
   "pygments_lexer": "ipython2",
   "version": "2.7.6"
  }
 },
 "nbformat": 4,
 "nbformat_minor": 0
}